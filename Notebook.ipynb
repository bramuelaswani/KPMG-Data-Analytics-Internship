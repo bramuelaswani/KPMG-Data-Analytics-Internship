{
 "cells": [
  {
   "cell_type": "markdown",
   "id": "27c4a923",
   "metadata": {},
   "source": [
    "## Author @Bramuel Aswani"
   ]
  },
  {
   "cell_type": "code",
   "execution_count": 1,
   "id": "721d8f4f",
   "metadata": {},
   "outputs": [],
   "source": [
    "import pandas as pd\n",
    "from datetime import time\n",
    "import seaborn as sns\n",
    "import matplotlib.pyplot as plt\n",
    "import numpy as np"
   ]
  },
  {
   "cell_type": "markdown",
   "id": "9db26e76",
   "metadata": {},
   "source": [
    "## Loading our sheets"
   ]
  },
  {
   "cell_type": "code",
   "execution_count": 2,
   "id": "a8c2a276",
   "metadata": {
    "scrolled": true
   },
   "outputs": [
    {
     "name": "stderr",
     "output_type": "stream",
     "text": [
      "C:\\Users\\User\\AppData\\Local\\Temp/ipykernel_5864/1899847343.py:2: FutureWarning: Inferring datetime64[ns] from data containing strings is deprecated and will be removed in a future version. To retain the old behavior explicitly pass Series(data, dtype={value.dtype})\n",
      "  df_demographic = pd.read_excel(xls, 'CustomerDemographic')\n",
      "C:\\Users\\User\\AppData\\Local\\Temp/ipykernel_5864/1899847343.py:5: FutureWarning: Inferring datetime64[ns] from data containing strings is deprecated and will be removed in a future version. To retain the old behavior explicitly pass Series(data, dtype={value.dtype})\n",
      "  df_new_customers=pd.read_excel(xls,'NewCustomerList')\n"
     ]
    }
   ],
   "source": [
    "xls = pd.ExcelFile('KPMG_VI_New_raw_data_update_final_no_header.xlsx')\n",
    "df_demographic = pd.read_excel(xls, 'CustomerDemographic')\n",
    "df_address = pd.read_excel(xls, 'CustomerAddress')\n",
    "df_transactions = pd.read_excel(xls, 'Transactions')\n",
    "df_new_customers=pd.read_excel(xls,'NewCustomerList')\n"
   ]
  },
  {
   "cell_type": "code",
   "execution_count": 3,
   "id": "530a3df1",
   "metadata": {},
   "outputs": [],
   "source": [
    "df_transactions.to_excel('tra.xlsx',index=False)"
   ]
  },
  {
   "cell_type": "code",
   "execution_count": 4,
   "id": "827e1ec8",
   "metadata": {
    "scrolled": true
   },
   "outputs": [
    {
     "name": "stdout",
     "output_type": "stream",
     "text": [
      "<class 'pandas.core.frame.DataFrame'>\n",
      "RangeIndex: 3999 entries, 0 to 3998\n",
      "Data columns (total 6 columns):\n",
      " #   Column              Non-Null Count  Dtype \n",
      "---  ------              --------------  ----- \n",
      " 0   customer_id         3999 non-null   int64 \n",
      " 1   address             3999 non-null   object\n",
      " 2   postcode            3999 non-null   int64 \n",
      " 3   state               3999 non-null   object\n",
      " 4   country             3999 non-null   object\n",
      " 5   property_valuation  3999 non-null   int64 \n",
      "dtypes: int64(3), object(3)\n",
      "memory usage: 187.6+ KB\n",
      "<class 'pandas.core.frame.DataFrame'>\n",
      "RangeIndex: 4000 entries, 0 to 3999\n",
      "Data columns (total 13 columns):\n",
      " #   Column                               Non-Null Count  Dtype         \n",
      "---  ------                               --------------  -----         \n",
      " 0   customer_id                          4000 non-null   int64         \n",
      " 1   first_name                           4000 non-null   object        \n",
      " 2   last_name                            3875 non-null   object        \n",
      " 3   gender                               4000 non-null   object        \n",
      " 4   past_3_years_bike_related_purchases  4000 non-null   int64         \n",
      " 5   DOB                                  3913 non-null   datetime64[ns]\n",
      " 6   job_title                            3494 non-null   object        \n",
      " 7   job_industry_category                3344 non-null   object        \n",
      " 8   wealth_segment                       4000 non-null   object        \n",
      " 9   deceased_indicator                   4000 non-null   object        \n",
      " 10  default                              3698 non-null   object        \n",
      " 11  owns_car                             4000 non-null   object        \n",
      " 12  tenure                               3913 non-null   float64       \n",
      "dtypes: datetime64[ns](1), float64(1), int64(2), object(9)\n",
      "memory usage: 406.4+ KB\n"
     ]
    }
   ],
   "source": [
    "\n",
    "df_address.info()\n",
    "df_demographic.info()\n"
   ]
  },
  {
   "cell_type": "code",
   "execution_count": 5,
   "id": "c6aaa635",
   "metadata": {
    "scrolled": false
   },
   "outputs": [
    {
     "name": "stdout",
     "output_type": "stream",
     "text": [
      "<class 'pandas.core.frame.DataFrame'>\n",
      "RangeIndex: 3999 entries, 0 to 3998\n",
      "Data columns (total 6 columns):\n",
      " #   Column              Non-Null Count  Dtype \n",
      "---  ------              --------------  ----- \n",
      " 0   customer_id         3999 non-null   int64 \n",
      " 1   address             3999 non-null   object\n",
      " 2   postcode            3999 non-null   int64 \n",
      " 3   state               3999 non-null   object\n",
      " 4   country             3999 non-null   object\n",
      " 5   property_valuation  3999 non-null   int64 \n",
      "dtypes: int64(3), object(3)\n",
      "memory usage: 187.6+ KB\n"
     ]
    }
   ],
   "source": [
    "df_address.info()"
   ]
  },
  {
   "cell_type": "markdown",
   "id": "9b7e3be2",
   "metadata": {},
   "source": [
    "# Merge the customerDemographic and customerAddress"
   ]
  },
  {
   "cell_type": "code",
   "execution_count": 6,
   "id": "da46b9a8",
   "metadata": {},
   "outputs": [
    {
     "data": {
      "text/html": [
       "<div>\n",
       "<style scoped>\n",
       "    .dataframe tbody tr th:only-of-type {\n",
       "        vertical-align: middle;\n",
       "    }\n",
       "\n",
       "    .dataframe tbody tr th {\n",
       "        vertical-align: top;\n",
       "    }\n",
       "\n",
       "    .dataframe thead th {\n",
       "        text-align: right;\n",
       "    }\n",
       "</style>\n",
       "<table border=\"1\" class=\"dataframe\">\n",
       "  <thead>\n",
       "    <tr style=\"text-align: right;\">\n",
       "      <th></th>\n",
       "      <th>customer_id</th>\n",
       "      <th>first_name</th>\n",
       "      <th>last_name</th>\n",
       "      <th>gender</th>\n",
       "      <th>past_3_years_bike_related_purchases</th>\n",
       "      <th>DOB</th>\n",
       "      <th>job_title</th>\n",
       "      <th>job_industry_category</th>\n",
       "      <th>wealth_segment</th>\n",
       "      <th>deceased_indicator</th>\n",
       "      <th>default</th>\n",
       "      <th>owns_car</th>\n",
       "      <th>tenure</th>\n",
       "      <th>address</th>\n",
       "      <th>postcode</th>\n",
       "      <th>state</th>\n",
       "      <th>country</th>\n",
       "      <th>property_valuation</th>\n",
       "    </tr>\n",
       "  </thead>\n",
       "  <tbody>\n",
       "    <tr>\n",
       "      <th>0</th>\n",
       "      <td>1</td>\n",
       "      <td>Laraine</td>\n",
       "      <td>Medendorp</td>\n",
       "      <td>F</td>\n",
       "      <td>93</td>\n",
       "      <td>1953-10-12</td>\n",
       "      <td>Executive Secretary</td>\n",
       "      <td>Health</td>\n",
       "      <td>Mass Customer</td>\n",
       "      <td>N</td>\n",
       "      <td>\"'</td>\n",
       "      <td>Yes</td>\n",
       "      <td>11.0</td>\n",
       "      <td>060 Morning Avenue</td>\n",
       "      <td>2016.0</td>\n",
       "      <td>New South Wales</td>\n",
       "      <td>Australia</td>\n",
       "      <td>10.0</td>\n",
       "    </tr>\n",
       "    <tr>\n",
       "      <th>1</th>\n",
       "      <td>2</td>\n",
       "      <td>Eli</td>\n",
       "      <td>Bockman</td>\n",
       "      <td>Male</td>\n",
       "      <td>81</td>\n",
       "      <td>1980-12-16</td>\n",
       "      <td>Administrative Officer</td>\n",
       "      <td>Financial Services</td>\n",
       "      <td>Mass Customer</td>\n",
       "      <td>N</td>\n",
       "      <td>&lt;script&gt;alert('hi')&lt;/script&gt;</td>\n",
       "      <td>Yes</td>\n",
       "      <td>16.0</td>\n",
       "      <td>6 Meadow Vale Court</td>\n",
       "      <td>2153.0</td>\n",
       "      <td>New South Wales</td>\n",
       "      <td>Australia</td>\n",
       "      <td>10.0</td>\n",
       "    </tr>\n",
       "    <tr>\n",
       "      <th>2</th>\n",
       "      <td>3</td>\n",
       "      <td>Arlin</td>\n",
       "      <td>Dearle</td>\n",
       "      <td>Male</td>\n",
       "      <td>61</td>\n",
       "      <td>1954-01-20</td>\n",
       "      <td>Recruiting Manager</td>\n",
       "      <td>Property</td>\n",
       "      <td>Mass Customer</td>\n",
       "      <td>N</td>\n",
       "      <td>2018-02-01 00:00:00</td>\n",
       "      <td>Yes</td>\n",
       "      <td>15.0</td>\n",
       "      <td>NaN</td>\n",
       "      <td>NaN</td>\n",
       "      <td>NaN</td>\n",
       "      <td>NaN</td>\n",
       "      <td>NaN</td>\n",
       "    </tr>\n",
       "    <tr>\n",
       "      <th>3</th>\n",
       "      <td>4</td>\n",
       "      <td>Talbot</td>\n",
       "      <td>NaN</td>\n",
       "      <td>Male</td>\n",
       "      <td>33</td>\n",
       "      <td>1961-10-03</td>\n",
       "      <td>NaN</td>\n",
       "      <td>IT</td>\n",
       "      <td>Mass Customer</td>\n",
       "      <td>N</td>\n",
       "      <td>() { _; } &gt;_[$($())] { touch /tmp/blns.shellsh...</td>\n",
       "      <td>No</td>\n",
       "      <td>7.0</td>\n",
       "      <td>0 Holy Cross Court</td>\n",
       "      <td>4211.0</td>\n",
       "      <td>QLD</td>\n",
       "      <td>Australia</td>\n",
       "      <td>9.0</td>\n",
       "    </tr>\n",
       "    <tr>\n",
       "      <th>4</th>\n",
       "      <td>5</td>\n",
       "      <td>Sheila-kathryn</td>\n",
       "      <td>Calton</td>\n",
       "      <td>Female</td>\n",
       "      <td>56</td>\n",
       "      <td>1977-05-13</td>\n",
       "      <td>Senior Editor</td>\n",
       "      <td>NaN</td>\n",
       "      <td>Affluent Customer</td>\n",
       "      <td>N</td>\n",
       "      <td>NIL</td>\n",
       "      <td>Yes</td>\n",
       "      <td>8.0</td>\n",
       "      <td>17979 Del Mar Point</td>\n",
       "      <td>2448.0</td>\n",
       "      <td>New South Wales</td>\n",
       "      <td>Australia</td>\n",
       "      <td>4.0</td>\n",
       "    </tr>\n",
       "    <tr>\n",
       "      <th>5</th>\n",
       "      <td>6</td>\n",
       "      <td>Curr</td>\n",
       "      <td>Duckhouse</td>\n",
       "      <td>Male</td>\n",
       "      <td>35</td>\n",
       "      <td>1966-09-16</td>\n",
       "      <td>NaN</td>\n",
       "      <td>Retail</td>\n",
       "      <td>High Net Worth</td>\n",
       "      <td>N</td>\n",
       "      <td>ðµ ð ð ð</td>\n",
       "      <td>Yes</td>\n",
       "      <td>13.0</td>\n",
       "      <td>9 Oakridge Court</td>\n",
       "      <td>3216.0</td>\n",
       "      <td>VIC</td>\n",
       "      <td>Australia</td>\n",
       "      <td>9.0</td>\n",
       "    </tr>\n",
       "    <tr>\n",
       "      <th>6</th>\n",
       "      <td>7</td>\n",
       "      <td>Fina</td>\n",
       "      <td>Merali</td>\n",
       "      <td>Female</td>\n",
       "      <td>6</td>\n",
       "      <td>1976-02-23</td>\n",
       "      <td>NaN</td>\n",
       "      <td>Financial Services</td>\n",
       "      <td>Affluent Customer</td>\n",
       "      <td>N</td>\n",
       "      <td>â°â´âµâââ</td>\n",
       "      <td>Yes</td>\n",
       "      <td>11.0</td>\n",
       "      <td>4 Delaware Trail</td>\n",
       "      <td>2210.0</td>\n",
       "      <td>New South Wales</td>\n",
       "      <td>Australia</td>\n",
       "      <td>9.0</td>\n",
       "    </tr>\n",
       "    <tr>\n",
       "      <th>7</th>\n",
       "      <td>8</td>\n",
       "      <td>Rod</td>\n",
       "      <td>Inder</td>\n",
       "      <td>Male</td>\n",
       "      <td>31</td>\n",
       "      <td>1962-03-30</td>\n",
       "      <td>Media Manager I</td>\n",
       "      <td>NaN</td>\n",
       "      <td>Mass Customer</td>\n",
       "      <td>N</td>\n",
       "      <td>(â¯Â°â¡Â°ï¼â¯ï¸µ â»ââ»)</td>\n",
       "      <td>No</td>\n",
       "      <td>7.0</td>\n",
       "      <td>49 Londonderry Lane</td>\n",
       "      <td>2650.0</td>\n",
       "      <td>New South Wales</td>\n",
       "      <td>Australia</td>\n",
       "      <td>4.0</td>\n",
       "    </tr>\n",
       "    <tr>\n",
       "      <th>8</th>\n",
       "      <td>9</td>\n",
       "      <td>Mala</td>\n",
       "      <td>Lind</td>\n",
       "      <td>Female</td>\n",
       "      <td>97</td>\n",
       "      <td>1973-03-10</td>\n",
       "      <td>Business Systems Development Analyst</td>\n",
       "      <td>Argiculture</td>\n",
       "      <td>Affluent Customer</td>\n",
       "      <td>N</td>\n",
       "      <td>0/0</td>\n",
       "      <td>Yes</td>\n",
       "      <td>8.0</td>\n",
       "      <td>97736 7th Trail</td>\n",
       "      <td>2023.0</td>\n",
       "      <td>New South Wales</td>\n",
       "      <td>Australia</td>\n",
       "      <td>12.0</td>\n",
       "    </tr>\n",
       "    <tr>\n",
       "      <th>9</th>\n",
       "      <td>10</td>\n",
       "      <td>Fiorenze</td>\n",
       "      <td>Birdall</td>\n",
       "      <td>Female</td>\n",
       "      <td>49</td>\n",
       "      <td>1988-10-11</td>\n",
       "      <td>Senior Quality Engineer</td>\n",
       "      <td>Financial Services</td>\n",
       "      <td>Mass Customer</td>\n",
       "      <td>N</td>\n",
       "      <td>ð©ð½</td>\n",
       "      <td>Yes</td>\n",
       "      <td>20.0</td>\n",
       "      <td>NaN</td>\n",
       "      <td>NaN</td>\n",
       "      <td>NaN</td>\n",
       "      <td>NaN</td>\n",
       "      <td>NaN</td>\n",
       "    </tr>\n",
       "  </tbody>\n",
       "</table>\n",
       "</div>"
      ],
      "text/plain": [
       "   customer_id      first_name  last_name  gender  \\\n",
       "0            1         Laraine  Medendorp       F   \n",
       "1            2             Eli    Bockman    Male   \n",
       "2            3           Arlin     Dearle    Male   \n",
       "3            4          Talbot        NaN    Male   \n",
       "4            5  Sheila-kathryn     Calton  Female   \n",
       "5            6            Curr  Duckhouse    Male   \n",
       "6            7            Fina     Merali  Female   \n",
       "7            8             Rod      Inder    Male   \n",
       "8            9            Mala       Lind  Female   \n",
       "9           10        Fiorenze    Birdall  Female   \n",
       "\n",
       "   past_3_years_bike_related_purchases        DOB  \\\n",
       "0                                   93 1953-10-12   \n",
       "1                                   81 1980-12-16   \n",
       "2                                   61 1954-01-20   \n",
       "3                                   33 1961-10-03   \n",
       "4                                   56 1977-05-13   \n",
       "5                                   35 1966-09-16   \n",
       "6                                    6 1976-02-23   \n",
       "7                                   31 1962-03-30   \n",
       "8                                   97 1973-03-10   \n",
       "9                                   49 1988-10-11   \n",
       "\n",
       "                              job_title job_industry_category  \\\n",
       "0                   Executive Secretary                Health   \n",
       "1                Administrative Officer    Financial Services   \n",
       "2                    Recruiting Manager              Property   \n",
       "3                                   NaN                    IT   \n",
       "4                         Senior Editor                   NaN   \n",
       "5                                   NaN                Retail   \n",
       "6                                   NaN    Financial Services   \n",
       "7                       Media Manager I                   NaN   \n",
       "8  Business Systems Development Analyst           Argiculture   \n",
       "9               Senior Quality Engineer    Financial Services   \n",
       "\n",
       "      wealth_segment deceased_indicator  \\\n",
       "0      Mass Customer                  N   \n",
       "1      Mass Customer                  N   \n",
       "2      Mass Customer                  N   \n",
       "3      Mass Customer                  N   \n",
       "4  Affluent Customer                  N   \n",
       "5     High Net Worth                  N   \n",
       "6  Affluent Customer                  N   \n",
       "7      Mass Customer                  N   \n",
       "8  Affluent Customer                  N   \n",
       "9      Mass Customer                  N   \n",
       "\n",
       "                                             default owns_car  tenure  \\\n",
       "0                                                 \"'      Yes    11.0   \n",
       "1                       <script>alert('hi')</script>      Yes    16.0   \n",
       "2                                2018-02-01 00:00:00      Yes    15.0   \n",
       "3  () { _; } >_[$($())] { touch /tmp/blns.shellsh...       No     7.0   \n",
       "4                                                NIL      Yes     8.0   \n",
       "5                                           ðµ ð ð ð      Yes    13.0   \n",
       "6                                          â°â´âµâââ      Yes    11.0   \n",
       "7                            (â¯Â°â¡Â°ï¼â¯ï¸µ â»ââ»)       No     7.0   \n",
       "8                                                0/0      Yes     8.0   \n",
       "9                                               ð©ð½      Yes    20.0   \n",
       "\n",
       "               address  postcode            state    country  \\\n",
       "0   060 Morning Avenue    2016.0  New South Wales  Australia   \n",
       "1  6 Meadow Vale Court    2153.0  New South Wales  Australia   \n",
       "2                  NaN       NaN              NaN        NaN   \n",
       "3   0 Holy Cross Court    4211.0              QLD  Australia   \n",
       "4  17979 Del Mar Point    2448.0  New South Wales  Australia   \n",
       "5     9 Oakridge Court    3216.0              VIC  Australia   \n",
       "6     4 Delaware Trail    2210.0  New South Wales  Australia   \n",
       "7  49 Londonderry Lane    2650.0  New South Wales  Australia   \n",
       "8      97736 7th Trail    2023.0  New South Wales  Australia   \n",
       "9                  NaN       NaN              NaN        NaN   \n",
       "\n",
       "   property_valuation  \n",
       "0                10.0  \n",
       "1                10.0  \n",
       "2                 NaN  \n",
       "3                 9.0  \n",
       "4                 4.0  \n",
       "5                 9.0  \n",
       "6                 9.0  \n",
       "7                 4.0  \n",
       "8                12.0  \n",
       "9                 NaN  "
      ]
     },
     "execution_count": 6,
     "metadata": {},
     "output_type": "execute_result"
    }
   ],
   "source": [
    "df_cust_details_all=df_demographic.merge(df_address, on='customer_id', how='left')\n",
    "df_cust_details_all.reset_index(drop=True, inplace=True)\n",
    "\n",
    "df_cust_details_all.head(10)"
   ]
  },
  {
   "cell_type": "code",
   "execution_count": 7,
   "id": "6c08a781",
   "metadata": {
    "scrolled": false
   },
   "outputs": [
    {
     "data": {
      "text/html": [
       "<div>\n",
       "<style scoped>\n",
       "    .dataframe tbody tr th:only-of-type {\n",
       "        vertical-align: middle;\n",
       "    }\n",
       "\n",
       "    .dataframe tbody tr th {\n",
       "        vertical-align: top;\n",
       "    }\n",
       "\n",
       "    .dataframe thead th {\n",
       "        text-align: right;\n",
       "    }\n",
       "</style>\n",
       "<table border=\"1\" class=\"dataframe\">\n",
       "  <thead>\n",
       "    <tr style=\"text-align: right;\">\n",
       "      <th></th>\n",
       "      <th>customer_id</th>\n",
       "      <th>past_3_years_bike_related_purchases</th>\n",
       "      <th>tenure</th>\n",
       "      <th>postcode</th>\n",
       "      <th>property_valuation</th>\n",
       "    </tr>\n",
       "  </thead>\n",
       "  <tbody>\n",
       "    <tr>\n",
       "      <th>count</th>\n",
       "      <td>4000.000000</td>\n",
       "      <td>4000.000000</td>\n",
       "      <td>3913.000000</td>\n",
       "      <td>3996.000000</td>\n",
       "      <td>3996.000000</td>\n",
       "    </tr>\n",
       "    <tr>\n",
       "      <th>mean</th>\n",
       "      <td>2000.500000</td>\n",
       "      <td>48.890000</td>\n",
       "      <td>10.657041</td>\n",
       "      <td>2985.735485</td>\n",
       "      <td>7.514014</td>\n",
       "    </tr>\n",
       "    <tr>\n",
       "      <th>std</th>\n",
       "      <td>1154.844867</td>\n",
       "      <td>28.715005</td>\n",
       "      <td>5.660146</td>\n",
       "      <td>844.945641</td>\n",
       "      <td>2.825426</td>\n",
       "    </tr>\n",
       "    <tr>\n",
       "      <th>min</th>\n",
       "      <td>1.000000</td>\n",
       "      <td>0.000000</td>\n",
       "      <td>1.000000</td>\n",
       "      <td>2000.000000</td>\n",
       "      <td>1.000000</td>\n",
       "    </tr>\n",
       "    <tr>\n",
       "      <th>25%</th>\n",
       "      <td>1000.750000</td>\n",
       "      <td>24.000000</td>\n",
       "      <td>6.000000</td>\n",
       "      <td>2200.000000</td>\n",
       "      <td>6.000000</td>\n",
       "    </tr>\n",
       "    <tr>\n",
       "      <th>50%</th>\n",
       "      <td>2000.500000</td>\n",
       "      <td>48.000000</td>\n",
       "      <td>11.000000</td>\n",
       "      <td>2768.000000</td>\n",
       "      <td>8.000000</td>\n",
       "    </tr>\n",
       "    <tr>\n",
       "      <th>75%</th>\n",
       "      <td>3000.250000</td>\n",
       "      <td>73.000000</td>\n",
       "      <td>15.000000</td>\n",
       "      <td>3750.000000</td>\n",
       "      <td>10.000000</td>\n",
       "    </tr>\n",
       "    <tr>\n",
       "      <th>max</th>\n",
       "      <td>4000.000000</td>\n",
       "      <td>99.000000</td>\n",
       "      <td>22.000000</td>\n",
       "      <td>4883.000000</td>\n",
       "      <td>12.000000</td>\n",
       "    </tr>\n",
       "  </tbody>\n",
       "</table>\n",
       "</div>"
      ],
      "text/plain": [
       "       customer_id  past_3_years_bike_related_purchases       tenure  \\\n",
       "count  4000.000000                          4000.000000  3913.000000   \n",
       "mean   2000.500000                            48.890000    10.657041   \n",
       "std    1154.844867                            28.715005     5.660146   \n",
       "min       1.000000                             0.000000     1.000000   \n",
       "25%    1000.750000                            24.000000     6.000000   \n",
       "50%    2000.500000                            48.000000    11.000000   \n",
       "75%    3000.250000                            73.000000    15.000000   \n",
       "max    4000.000000                            99.000000    22.000000   \n",
       "\n",
       "          postcode  property_valuation  \n",
       "count  3996.000000         3996.000000  \n",
       "mean   2985.735485            7.514014  \n",
       "std     844.945641            2.825426  \n",
       "min    2000.000000            1.000000  \n",
       "25%    2200.000000            6.000000  \n",
       "50%    2768.000000            8.000000  \n",
       "75%    3750.000000           10.000000  \n",
       "max    4883.000000           12.000000  "
      ]
     },
     "execution_count": 7,
     "metadata": {},
     "output_type": "execute_result"
    }
   ],
   "source": [
    "df_cust_details_all.describe()"
   ]
  },
  {
   "cell_type": "code",
   "execution_count": 8,
   "id": "8bcefe39",
   "metadata": {},
   "outputs": [
    {
     "data": {
      "text/html": [
       "<div>\n",
       "<style scoped>\n",
       "    .dataframe tbody tr th:only-of-type {\n",
       "        vertical-align: middle;\n",
       "    }\n",
       "\n",
       "    .dataframe tbody tr th {\n",
       "        vertical-align: top;\n",
       "    }\n",
       "\n",
       "    .dataframe thead th {\n",
       "        text-align: right;\n",
       "    }\n",
       "</style>\n",
       "<table border=\"1\" class=\"dataframe\">\n",
       "  <thead>\n",
       "    <tr style=\"text-align: right;\">\n",
       "      <th></th>\n",
       "      <th>customer_id</th>\n",
       "      <th>first_name</th>\n",
       "      <th>last_name</th>\n",
       "      <th>gender</th>\n",
       "      <th>past_3_years_bike_related_purchases</th>\n",
       "      <th>DOB</th>\n",
       "      <th>job_title</th>\n",
       "      <th>job_industry_category</th>\n",
       "      <th>wealth_segment</th>\n",
       "      <th>deceased_indicator</th>\n",
       "      <th>default</th>\n",
       "      <th>owns_car</th>\n",
       "      <th>tenure</th>\n",
       "      <th>address</th>\n",
       "      <th>postcode</th>\n",
       "      <th>state</th>\n",
       "      <th>country</th>\n",
       "      <th>property_valuation</th>\n",
       "    </tr>\n",
       "  </thead>\n",
       "  <tbody>\n",
       "    <tr>\n",
       "      <th>0</th>\n",
       "      <td>1</td>\n",
       "      <td>Laraine</td>\n",
       "      <td>Medendorp</td>\n",
       "      <td>F</td>\n",
       "      <td>93</td>\n",
       "      <td>1953-10-12</td>\n",
       "      <td>Executive Secretary</td>\n",
       "      <td>Health</td>\n",
       "      <td>Mass Customer</td>\n",
       "      <td>N</td>\n",
       "      <td>\"'</td>\n",
       "      <td>Yes</td>\n",
       "      <td>11.0</td>\n",
       "      <td>060 Morning Avenue</td>\n",
       "      <td>2016.0</td>\n",
       "      <td>New South Wales</td>\n",
       "      <td>Australia</td>\n",
       "      <td>10.0</td>\n",
       "    </tr>\n",
       "    <tr>\n",
       "      <th>1</th>\n",
       "      <td>2</td>\n",
       "      <td>Eli</td>\n",
       "      <td>Bockman</td>\n",
       "      <td>Male</td>\n",
       "      <td>81</td>\n",
       "      <td>1980-12-16</td>\n",
       "      <td>Administrative Officer</td>\n",
       "      <td>Financial Services</td>\n",
       "      <td>Mass Customer</td>\n",
       "      <td>N</td>\n",
       "      <td>&lt;script&gt;alert('hi')&lt;/script&gt;</td>\n",
       "      <td>Yes</td>\n",
       "      <td>16.0</td>\n",
       "      <td>6 Meadow Vale Court</td>\n",
       "      <td>2153.0</td>\n",
       "      <td>New South Wales</td>\n",
       "      <td>Australia</td>\n",
       "      <td>10.0</td>\n",
       "    </tr>\n",
       "    <tr>\n",
       "      <th>2</th>\n",
       "      <td>3</td>\n",
       "      <td>Arlin</td>\n",
       "      <td>Dearle</td>\n",
       "      <td>Male</td>\n",
       "      <td>61</td>\n",
       "      <td>1954-01-20</td>\n",
       "      <td>Recruiting Manager</td>\n",
       "      <td>Property</td>\n",
       "      <td>Mass Customer</td>\n",
       "      <td>N</td>\n",
       "      <td>2018-02-01 00:00:00</td>\n",
       "      <td>Yes</td>\n",
       "      <td>15.0</td>\n",
       "      <td>NaN</td>\n",
       "      <td>NaN</td>\n",
       "      <td>NaN</td>\n",
       "      <td>NaN</td>\n",
       "      <td>NaN</td>\n",
       "    </tr>\n",
       "    <tr>\n",
       "      <th>3</th>\n",
       "      <td>4</td>\n",
       "      <td>Talbot</td>\n",
       "      <td>NaN</td>\n",
       "      <td>Male</td>\n",
       "      <td>33</td>\n",
       "      <td>1961-10-03</td>\n",
       "      <td>NaN</td>\n",
       "      <td>IT</td>\n",
       "      <td>Mass Customer</td>\n",
       "      <td>N</td>\n",
       "      <td>() { _; } &gt;_[$($())] { touch /tmp/blns.shellsh...</td>\n",
       "      <td>No</td>\n",
       "      <td>7.0</td>\n",
       "      <td>0 Holy Cross Court</td>\n",
       "      <td>4211.0</td>\n",
       "      <td>QLD</td>\n",
       "      <td>Australia</td>\n",
       "      <td>9.0</td>\n",
       "    </tr>\n",
       "    <tr>\n",
       "      <th>4</th>\n",
       "      <td>5</td>\n",
       "      <td>Sheila-kathryn</td>\n",
       "      <td>Calton</td>\n",
       "      <td>Female</td>\n",
       "      <td>56</td>\n",
       "      <td>1977-05-13</td>\n",
       "      <td>Senior Editor</td>\n",
       "      <td>NaN</td>\n",
       "      <td>Affluent Customer</td>\n",
       "      <td>N</td>\n",
       "      <td>NIL</td>\n",
       "      <td>Yes</td>\n",
       "      <td>8.0</td>\n",
       "      <td>17979 Del Mar Point</td>\n",
       "      <td>2448.0</td>\n",
       "      <td>New South Wales</td>\n",
       "      <td>Australia</td>\n",
       "      <td>4.0</td>\n",
       "    </tr>\n",
       "  </tbody>\n",
       "</table>\n",
       "</div>"
      ],
      "text/plain": [
       "   customer_id      first_name  last_name  gender  \\\n",
       "0            1         Laraine  Medendorp       F   \n",
       "1            2             Eli    Bockman    Male   \n",
       "2            3           Arlin     Dearle    Male   \n",
       "3            4          Talbot        NaN    Male   \n",
       "4            5  Sheila-kathryn     Calton  Female   \n",
       "\n",
       "   past_3_years_bike_related_purchases        DOB               job_title  \\\n",
       "0                                   93 1953-10-12     Executive Secretary   \n",
       "1                                   81 1980-12-16  Administrative Officer   \n",
       "2                                   61 1954-01-20      Recruiting Manager   \n",
       "3                                   33 1961-10-03                     NaN   \n",
       "4                                   56 1977-05-13           Senior Editor   \n",
       "\n",
       "  job_industry_category     wealth_segment deceased_indicator  \\\n",
       "0                Health      Mass Customer                  N   \n",
       "1    Financial Services      Mass Customer                  N   \n",
       "2              Property      Mass Customer                  N   \n",
       "3                    IT      Mass Customer                  N   \n",
       "4                   NaN  Affluent Customer                  N   \n",
       "\n",
       "                                             default owns_car  tenure  \\\n",
       "0                                                 \"'      Yes    11.0   \n",
       "1                       <script>alert('hi')</script>      Yes    16.0   \n",
       "2                                2018-02-01 00:00:00      Yes    15.0   \n",
       "3  () { _; } >_[$($())] { touch /tmp/blns.shellsh...       No     7.0   \n",
       "4                                                NIL      Yes     8.0   \n",
       "\n",
       "               address  postcode            state    country  \\\n",
       "0   060 Morning Avenue    2016.0  New South Wales  Australia   \n",
       "1  6 Meadow Vale Court    2153.0  New South Wales  Australia   \n",
       "2                  NaN       NaN              NaN        NaN   \n",
       "3   0 Holy Cross Court    4211.0              QLD  Australia   \n",
       "4  17979 Del Mar Point    2448.0  New South Wales  Australia   \n",
       "\n",
       "   property_valuation  \n",
       "0                10.0  \n",
       "1                10.0  \n",
       "2                 NaN  \n",
       "3                 9.0  \n",
       "4                 4.0  "
      ]
     },
     "execution_count": 8,
     "metadata": {},
     "output_type": "execute_result"
    }
   ],
   "source": [
    "df_cust_details_all.head()"
   ]
  },
  {
   "cell_type": "code",
   "execution_count": 9,
   "id": "37c62326",
   "metadata": {},
   "outputs": [
    {
     "data": {
      "text/plain": [
       "4000"
      ]
     },
     "execution_count": 9,
     "metadata": {},
     "output_type": "execute_result"
    }
   ],
   "source": [
    "#No duplicate customer_id\n",
    "df_cust_details_all['customer_id'].nunique()"
   ]
  },
  {
   "cell_type": "code",
   "execution_count": 10,
   "id": "da48fe98",
   "metadata": {},
   "outputs": [
    {
     "data": {
      "text/plain": [
       "3999"
      ]
     },
     "execution_count": 10,
     "metadata": {},
     "output_type": "execute_result"
    }
   ],
   "source": [
    "df_address['customer_id'].nunique()"
   ]
  },
  {
   "cell_type": "markdown",
   "id": "e7fa6d34",
   "metadata": {},
   "source": [
    "## Missing values"
   ]
  },
  {
   "cell_type": "code",
   "execution_count": 11,
   "id": "186cb14d",
   "metadata": {
    "scrolled": true
   },
   "outputs": [
    {
     "data": {
      "text/plain": [
       "customer_id                              0\n",
       "first_name                               0\n",
       "last_name                              125\n",
       "gender                                   0\n",
       "past_3_years_bike_related_purchases      0\n",
       "DOB                                     87\n",
       "job_title                              506\n",
       "job_industry_category                  656\n",
       "wealth_segment                           0\n",
       "deceased_indicator                       0\n",
       "default                                302\n",
       "owns_car                                 0\n",
       "tenure                                  87\n",
       "address                                  4\n",
       "postcode                                 4\n",
       "state                                    4\n",
       "country                                  4\n",
       "property_valuation                       4\n",
       "dtype: int64"
      ]
     },
     "execution_count": 11,
     "metadata": {},
     "output_type": "execute_result"
    }
   ],
   "source": [
    "#we can opt to fill the missing values with mode for the categorical data and mean for the numerical data but for now lets just\n",
    "#work with this\n",
    "df_cust_details_all.isnull().sum()"
   ]
  },
  {
   "cell_type": "code",
   "execution_count": 12,
   "id": "739a8ffe",
   "metadata": {
    "scrolled": false
   },
   "outputs": [],
   "source": [
    "df_cust_details_all.dropna(how='all',inplace=True)"
   ]
  },
  {
   "cell_type": "code",
   "execution_count": 13,
   "id": "ec2c5e53",
   "metadata": {},
   "outputs": [
    {
     "data": {
      "text/plain": [
       "customer_id                              0\n",
       "first_name                               0\n",
       "last_name                              125\n",
       "gender                                   0\n",
       "past_3_years_bike_related_purchases      0\n",
       "DOB                                     87\n",
       "job_title                              506\n",
       "job_industry_category                  656\n",
       "wealth_segment                           0\n",
       "deceased_indicator                       0\n",
       "default                                302\n",
       "owns_car                                 0\n",
       "tenure                                  87\n",
       "address                                  4\n",
       "postcode                                 4\n",
       "state                                    4\n",
       "country                                  4\n",
       "property_valuation                       4\n",
       "dtype: int64"
      ]
     },
     "execution_count": 13,
     "metadata": {},
     "output_type": "execute_result"
    }
   ],
   "source": [
    "df_cust_details_all.isnull().sum()"
   ]
  },
  {
   "cell_type": "code",
   "execution_count": 14,
   "id": "44ac1c47",
   "metadata": {
    "scrolled": false
   },
   "outputs": [
    {
     "data": {
      "text/plain": [
       "customer_id                            0\n",
       "first_name                             0\n",
       "last_name                              0\n",
       "gender                                 0\n",
       "past_3_years_bike_related_purchases    0\n",
       "DOB                                    0\n",
       "job_title                              0\n",
       "job_industry_category                  0\n",
       "wealth_segment                         0\n",
       "deceased_indicator                     0\n",
       "default                                0\n",
       "owns_car                               0\n",
       "tenure                                 0\n",
       "address                                0\n",
       "postcode                               0\n",
       "state                                  0\n",
       "country                                0\n",
       "property_valuation                     0\n",
       "dtype: int64"
      ]
     },
     "execution_count": 14,
     "metadata": {},
     "output_type": "execute_result"
    }
   ],
   "source": [
    "#lets confirm duplicates \n",
    "duplicate = df_cust_details_all[df_cust_details_all.duplicated()].count()\n",
    "duplicate"
   ]
  },
  {
   "cell_type": "markdown",
   "id": "7a8c6079",
   "metadata": {},
   "source": [
    "## Check consistency in commonly used attributes"
   ]
  },
  {
   "cell_type": "code",
   "execution_count": 15,
   "id": "a1f9f153",
   "metadata": {
    "scrolled": true
   },
   "outputs": [
    {
     "data": {
      "text/plain": [
       "Female    2037\n",
       "Male      1872\n",
       "U           88\n",
       "F            1\n",
       "Femal        1\n",
       "M            1\n",
       "Name: gender, dtype: int64"
      ]
     },
     "execution_count": 15,
     "metadata": {},
     "output_type": "execute_result"
    }
   ],
   "source": [
    "df_cust_details_all['gender'].value_counts()"
   ]
  },
  {
   "cell_type": "code",
   "execution_count": 16,
   "id": "0227fe7e",
   "metadata": {
    "scrolled": true
   },
   "outputs": [
    {
     "data": {
      "text/plain": [
       "Female    2039\n",
       "Male      1873\n",
       "U           88\n",
       "Name: gender, dtype: int64"
      ]
     },
     "execution_count": 16,
     "metadata": {},
     "output_type": "execute_result"
    }
   ],
   "source": [
    "#make gender clummn have three unique values only(Female,Male,Unisex)\n",
    "df_cust_details_all['gender'].replace(['F','M','Femal'],['Female','Male','Female'],inplace=True)\n",
    "df_cust_details_all.gender.value_counts()"
   ]
  },
  {
   "cell_type": "code",
   "execution_count": 17,
   "id": "e23781fe",
   "metadata": {
    "scrolled": false
   },
   "outputs": [
    {
     "data": {
      "text/plain": [
       "NSW                2052\n",
       "VIC                 939\n",
       "QLD                 837\n",
       "New South Wales      86\n",
       "Victoria             82\n",
       "Name: state, dtype: int64"
      ]
     },
     "execution_count": 17,
     "metadata": {},
     "output_type": "execute_result"
    }
   ],
   "source": [
    "df_cust_details_all['state'].value_counts()"
   ]
  },
  {
   "cell_type": "code",
   "execution_count": 18,
   "id": "5b58fc83",
   "metadata": {},
   "outputs": [],
   "source": [
    "df_cust_details_all['state'].replace(['New South Wales','Victoria'],['NSW','VIC'],inplace=True)\n"
   ]
  },
  {
   "cell_type": "code",
   "execution_count": 19,
   "id": "133f814a",
   "metadata": {
    "scrolled": true
   },
   "outputs": [
    {
     "data": {
      "text/plain": [
       "Yes    2024\n",
       "No     1976\n",
       "Name: owns_car, dtype: int64"
      ]
     },
     "execution_count": 19,
     "metadata": {},
     "output_type": "execute_result"
    }
   ],
   "source": [
    "df_cust_details_all['owns_car'].value_counts()"
   ]
  },
  {
   "cell_type": "code",
   "execution_count": 20,
   "id": "1ed40ad3",
   "metadata": {
    "scrolled": true
   },
   "outputs": [
    {
     "data": {
      "text/plain": [
       "N    3998\n",
       "Y       2\n",
       "Name: deceased_indicator, dtype: int64"
      ]
     },
     "execution_count": 20,
     "metadata": {},
     "output_type": "execute_result"
    }
   ],
   "source": [
    "df_cust_details_all['deceased_indicator'].value_counts()"
   ]
  },
  {
   "cell_type": "markdown",
   "id": "a39a1381",
   "metadata": {},
   "source": [
    "### Change deceased_indicator values to more Understanding names"
   ]
  },
  {
   "cell_type": "code",
   "execution_count": 21,
   "id": "2a6b62ba",
   "metadata": {},
   "outputs": [
    {
     "data": {
      "text/plain": [
       "0    NO\n",
       "1    NO\n",
       "2    NO\n",
       "3    NO\n",
       "4    NO\n",
       "Name: deceased_indicator, dtype: object"
      ]
     },
     "execution_count": 21,
     "metadata": {},
     "output_type": "execute_result"
    }
   ],
   "source": [
    "df_cust_details_all['deceased_indicator'].replace(['N','Y'],['NO','YES'],inplace=True)\n",
    "df_cust_details_all['deceased_indicator'].head()\n"
   ]
  },
  {
   "cell_type": "markdown",
   "id": "f10bf05c",
   "metadata": {},
   "source": [
    "\n",
    "### Handling Extreme Ages "
   ]
  },
  {
   "cell_type": "code",
   "execution_count": 22,
   "id": "d208902d",
   "metadata": {},
   "outputs": [
    {
     "data": {
      "text/html": [
       "<div>\n",
       "<style scoped>\n",
       "    .dataframe tbody tr th:only-of-type {\n",
       "        vertical-align: middle;\n",
       "    }\n",
       "\n",
       "    .dataframe tbody tr th {\n",
       "        vertical-align: top;\n",
       "    }\n",
       "\n",
       "    .dataframe thead th {\n",
       "        text-align: right;\n",
       "    }\n",
       "</style>\n",
       "<table border=\"1\" class=\"dataframe\">\n",
       "  <thead>\n",
       "    <tr style=\"text-align: right;\">\n",
       "      <th></th>\n",
       "      <th>customer_id</th>\n",
       "      <th>first_name</th>\n",
       "      <th>last_name</th>\n",
       "      <th>gender</th>\n",
       "      <th>past_3_years_bike_related_purchases</th>\n",
       "      <th>DOB</th>\n",
       "      <th>job_title</th>\n",
       "      <th>job_industry_category</th>\n",
       "      <th>wealth_segment</th>\n",
       "      <th>deceased_indicator</th>\n",
       "      <th>default</th>\n",
       "      <th>owns_car</th>\n",
       "      <th>tenure</th>\n",
       "      <th>address</th>\n",
       "      <th>postcode</th>\n",
       "      <th>state</th>\n",
       "      <th>country</th>\n",
       "      <th>property_valuation</th>\n",
       "    </tr>\n",
       "  </thead>\n",
       "  <tbody>\n",
       "    <tr>\n",
       "      <th>33</th>\n",
       "      <td>34</td>\n",
       "      <td>Jephthah</td>\n",
       "      <td>Bachmann</td>\n",
       "      <td>U</td>\n",
       "      <td>59</td>\n",
       "      <td>1843-12-21</td>\n",
       "      <td>Legal Assistant</td>\n",
       "      <td>IT</td>\n",
       "      <td>Affluent Customer</td>\n",
       "      <td>NO</td>\n",
       "      <td>NaN</td>\n",
       "      <td>No</td>\n",
       "      <td>20.0</td>\n",
       "      <td>833 Luster Way</td>\n",
       "      <td>4005.0</td>\n",
       "      <td>QLD</td>\n",
       "      <td>Australia</td>\n",
       "      <td>8.0</td>\n",
       "    </tr>\n",
       "    <tr>\n",
       "      <th>719</th>\n",
       "      <td>720</td>\n",
       "      <td>Darrel</td>\n",
       "      <td>Canet</td>\n",
       "      <td>Male</td>\n",
       "      <td>67</td>\n",
       "      <td>1931-10-23</td>\n",
       "      <td>Recruiting Manager</td>\n",
       "      <td>Retail</td>\n",
       "      <td>Affluent Customer</td>\n",
       "      <td>NO</td>\n",
       "      <td>1;DROP TABLE users</td>\n",
       "      <td>No</td>\n",
       "      <td>6.0</td>\n",
       "      <td>78 Glacier Hill Drive</td>\n",
       "      <td>2026.0</td>\n",
       "      <td>NSW</td>\n",
       "      <td>Australia</td>\n",
       "      <td>10.0</td>\n",
       "    </tr>\n",
       "    <tr>\n",
       "      <th>1091</th>\n",
       "      <td>1092</td>\n",
       "      <td>Katlin</td>\n",
       "      <td>Creddon</td>\n",
       "      <td>Female</td>\n",
       "      <td>56</td>\n",
       "      <td>1935-08-22</td>\n",
       "      <td>VP Quality Control</td>\n",
       "      <td>Retail</td>\n",
       "      <td>Mass Customer</td>\n",
       "      <td>NO</td>\n",
       "      <td>ì¬íê³¼íì ì´íì°êµ¬ì</td>\n",
       "      <td>No</td>\n",
       "      <td>5.0</td>\n",
       "      <td>5515 Artisan Center</td>\n",
       "      <td>3337.0</td>\n",
       "      <td>VIC</td>\n",
       "      <td>Australia</td>\n",
       "      <td>3.0</td>\n",
       "    </tr>\n",
       "    <tr>\n",
       "      <th>3409</th>\n",
       "      <td>3410</td>\n",
       "      <td>Merrili</td>\n",
       "      <td>Brittin</td>\n",
       "      <td>Female</td>\n",
       "      <td>93</td>\n",
       "      <td>1940-09-22</td>\n",
       "      <td>NaN</td>\n",
       "      <td>Property</td>\n",
       "      <td>Mass Customer</td>\n",
       "      <td>NO</td>\n",
       "      <td>á</td>\n",
       "      <td>No</td>\n",
       "      <td>16.0</td>\n",
       "      <td>1351 Lunder Road</td>\n",
       "      <td>2049.0</td>\n",
       "      <td>NSW</td>\n",
       "      <td>Australia</td>\n",
       "      <td>10.0</td>\n",
       "    </tr>\n",
       "    <tr>\n",
       "      <th>2412</th>\n",
       "      <td>2413</td>\n",
       "      <td>Abbey</td>\n",
       "      <td>Murrow</td>\n",
       "      <td>Male</td>\n",
       "      <td>27</td>\n",
       "      <td>1943-08-11</td>\n",
       "      <td>Environmental Specialist</td>\n",
       "      <td>Manufacturing</td>\n",
       "      <td>High Net Worth</td>\n",
       "      <td>NO</td>\n",
       "      <td>á</td>\n",
       "      <td>Yes</td>\n",
       "      <td>17.0</td>\n",
       "      <td>423 Debra Terrace</td>\n",
       "      <td>3082.0</td>\n",
       "      <td>VIC</td>\n",
       "      <td>Australia</td>\n",
       "      <td>8.0</td>\n",
       "    </tr>\n",
       "    <tr>\n",
       "      <th>...</th>\n",
       "      <td>...</td>\n",
       "      <td>...</td>\n",
       "      <td>...</td>\n",
       "      <td>...</td>\n",
       "      <td>...</td>\n",
       "      <td>...</td>\n",
       "      <td>...</td>\n",
       "      <td>...</td>\n",
       "      <td>...</td>\n",
       "      <td>...</td>\n",
       "      <td>...</td>\n",
       "      <td>...</td>\n",
       "      <td>...</td>\n",
       "      <td>...</td>\n",
       "      <td>...</td>\n",
       "      <td>...</td>\n",
       "      <td>...</td>\n",
       "      <td>...</td>\n",
       "    </tr>\n",
       "    <tr>\n",
       "      <th>3778</th>\n",
       "      <td>3779</td>\n",
       "      <td>Ulick</td>\n",
       "      <td>Daspar</td>\n",
       "      <td>U</td>\n",
       "      <td>68</td>\n",
       "      <td>NaT</td>\n",
       "      <td>NaN</td>\n",
       "      <td>IT</td>\n",
       "      <td>Affluent Customer</td>\n",
       "      <td>NO</td>\n",
       "      <td>NaN</td>\n",
       "      <td>No</td>\n",
       "      <td>NaN</td>\n",
       "      <td>3052 Green Drive</td>\n",
       "      <td>3142.0</td>\n",
       "      <td>VIC</td>\n",
       "      <td>Australia</td>\n",
       "      <td>11.0</td>\n",
       "    </tr>\n",
       "    <tr>\n",
       "      <th>3882</th>\n",
       "      <td>3883</td>\n",
       "      <td>Nissa</td>\n",
       "      <td>Conrad</td>\n",
       "      <td>U</td>\n",
       "      <td>35</td>\n",
       "      <td>NaT</td>\n",
       "      <td>Legal Assistant</td>\n",
       "      <td>IT</td>\n",
       "      <td>Mass Customer</td>\n",
       "      <td>NO</td>\n",
       "      <td>NaN</td>\n",
       "      <td>No</td>\n",
       "      <td>NaN</td>\n",
       "      <td>344 Dayton Drive</td>\n",
       "      <td>2148.0</td>\n",
       "      <td>NSW</td>\n",
       "      <td>Australia</td>\n",
       "      <td>9.0</td>\n",
       "    </tr>\n",
       "    <tr>\n",
       "      <th>3930</th>\n",
       "      <td>3931</td>\n",
       "      <td>Kylie</td>\n",
       "      <td>Epine</td>\n",
       "      <td>U</td>\n",
       "      <td>19</td>\n",
       "      <td>NaT</td>\n",
       "      <td>NaN</td>\n",
       "      <td>IT</td>\n",
       "      <td>High Net Worth</td>\n",
       "      <td>NO</td>\n",
       "      <td>NaN</td>\n",
       "      <td>Yes</td>\n",
       "      <td>NaN</td>\n",
       "      <td>22 Mifflin Junction</td>\n",
       "      <td>2096.0</td>\n",
       "      <td>NSW</td>\n",
       "      <td>Australia</td>\n",
       "      <td>9.0</td>\n",
       "    </tr>\n",
       "    <tr>\n",
       "      <th>3934</th>\n",
       "      <td>3935</td>\n",
       "      <td>Teodor</td>\n",
       "      <td>Alfonsini</td>\n",
       "      <td>U</td>\n",
       "      <td>72</td>\n",
       "      <td>NaT</td>\n",
       "      <td>NaN</td>\n",
       "      <td>IT</td>\n",
       "      <td>High Net Worth</td>\n",
       "      <td>NO</td>\n",
       "      <td>NaN</td>\n",
       "      <td>Yes</td>\n",
       "      <td>NaN</td>\n",
       "      <td>3 Kedzie Center</td>\n",
       "      <td>3106.0</td>\n",
       "      <td>VIC</td>\n",
       "      <td>Australia</td>\n",
       "      <td>10.0</td>\n",
       "    </tr>\n",
       "    <tr>\n",
       "      <th>3997</th>\n",
       "      <td>3998</td>\n",
       "      <td>Sarene</td>\n",
       "      <td>Woolley</td>\n",
       "      <td>U</td>\n",
       "      <td>60</td>\n",
       "      <td>NaT</td>\n",
       "      <td>Assistant Manager</td>\n",
       "      <td>IT</td>\n",
       "      <td>High Net Worth</td>\n",
       "      <td>NO</td>\n",
       "      <td>NaN</td>\n",
       "      <td>No</td>\n",
       "      <td>NaN</td>\n",
       "      <td>736 Roxbury Junction</td>\n",
       "      <td>2540.0</td>\n",
       "      <td>NSW</td>\n",
       "      <td>Australia</td>\n",
       "      <td>6.0</td>\n",
       "    </tr>\n",
       "  </tbody>\n",
       "</table>\n",
       "<p>4000 rows × 18 columns</p>\n",
       "</div>"
      ],
      "text/plain": [
       "      customer_id first_name  last_name  gender  \\\n",
       "33             34   Jephthah   Bachmann       U   \n",
       "719           720     Darrel      Canet    Male   \n",
       "1091         1092     Katlin    Creddon  Female   \n",
       "3409         3410    Merrili    Brittin  Female   \n",
       "2412         2413      Abbey     Murrow    Male   \n",
       "...           ...        ...        ...     ...   \n",
       "3778         3779      Ulick     Daspar       U   \n",
       "3882         3883      Nissa     Conrad       U   \n",
       "3930         3931      Kylie      Epine       U   \n",
       "3934         3935     Teodor  Alfonsini       U   \n",
       "3997         3998     Sarene    Woolley       U   \n",
       "\n",
       "      past_3_years_bike_related_purchases        DOB  \\\n",
       "33                                     59 1843-12-21   \n",
       "719                                    67 1931-10-23   \n",
       "1091                                   56 1935-08-22   \n",
       "3409                                   93 1940-09-22   \n",
       "2412                                   27 1943-08-11   \n",
       "...                                   ...        ...   \n",
       "3778                                   68        NaT   \n",
       "3882                                   35        NaT   \n",
       "3930                                   19        NaT   \n",
       "3934                                   72        NaT   \n",
       "3997                                   60        NaT   \n",
       "\n",
       "                     job_title job_industry_category     wealth_segment  \\\n",
       "33             Legal Assistant                    IT  Affluent Customer   \n",
       "719         Recruiting Manager                Retail  Affluent Customer   \n",
       "1091        VP Quality Control                Retail      Mass Customer   \n",
       "3409                       NaN              Property      Mass Customer   \n",
       "2412  Environmental Specialist         Manufacturing     High Net Worth   \n",
       "...                        ...                   ...                ...   \n",
       "3778                       NaN                    IT  Affluent Customer   \n",
       "3882           Legal Assistant                    IT      Mass Customer   \n",
       "3930                       NaN                    IT     High Net Worth   \n",
       "3934                       NaN                    IT     High Net Worth   \n",
       "3997         Assistant Manager                    IT     High Net Worth   \n",
       "\n",
       "     deceased_indicator             default owns_car  tenure  \\\n",
       "33                   NO                 NaN       No    20.0   \n",
       "719                  NO  1;DROP TABLE users       No     6.0   \n",
       "1091                 NO  ì¬íê³¼íì ì´íì°êµ¬ì       No     5.0   \n",
       "3409                 NO                   á       No    16.0   \n",
       "2412                 NO                  á       Yes    17.0   \n",
       "...                 ...                 ...      ...     ...   \n",
       "3778                 NO                 NaN       No     NaN   \n",
       "3882                 NO                 NaN       No     NaN   \n",
       "3930                 NO                 NaN      Yes     NaN   \n",
       "3934                 NO                 NaN      Yes     NaN   \n",
       "3997                 NO                 NaN       No     NaN   \n",
       "\n",
       "                    address  postcode state    country  property_valuation  \n",
       "33           833 Luster Way    4005.0   QLD  Australia                 8.0  \n",
       "719   78 Glacier Hill Drive    2026.0   NSW  Australia                10.0  \n",
       "1091    5515 Artisan Center    3337.0   VIC  Australia                 3.0  \n",
       "3409       1351 Lunder Road    2049.0   NSW  Australia                10.0  \n",
       "2412      423 Debra Terrace    3082.0   VIC  Australia                 8.0  \n",
       "...                     ...       ...   ...        ...                 ...  \n",
       "3778       3052 Green Drive    3142.0   VIC  Australia                11.0  \n",
       "3882       344 Dayton Drive    2148.0   NSW  Australia                 9.0  \n",
       "3930    22 Mifflin Junction    2096.0   NSW  Australia                 9.0  \n",
       "3934        3 Kedzie Center    3106.0   VIC  Australia                10.0  \n",
       "3997   736 Roxbury Junction    2540.0   NSW  Australia                 6.0  \n",
       "\n",
       "[4000 rows x 18 columns]"
      ]
     },
     "execution_count": 22,
     "metadata": {},
     "output_type": "execute_result"
    }
   ],
   "source": [
    "df = df_cust_details_all.sort_values('DOB',ascending=True)\n",
    "df"
   ]
  },
  {
   "cell_type": "code",
   "execution_count": 23,
   "id": "9ff5d45e",
   "metadata": {
    "scrolled": true
   },
   "outputs": [
    {
     "data": {
      "text/html": [
       "<div>\n",
       "<style scoped>\n",
       "    .dataframe tbody tr th:only-of-type {\n",
       "        vertical-align: middle;\n",
       "    }\n",
       "\n",
       "    .dataframe tbody tr th {\n",
       "        vertical-align: top;\n",
       "    }\n",
       "\n",
       "    .dataframe thead th {\n",
       "        text-align: right;\n",
       "    }\n",
       "</style>\n",
       "<table border=\"1\" class=\"dataframe\">\n",
       "  <thead>\n",
       "    <tr style=\"text-align: right;\">\n",
       "      <th></th>\n",
       "      <th>customer_id</th>\n",
       "      <th>first_name</th>\n",
       "      <th>last_name</th>\n",
       "      <th>gender</th>\n",
       "      <th>past_3_years_bike_related_purchases</th>\n",
       "      <th>DOB</th>\n",
       "      <th>job_title</th>\n",
       "      <th>job_industry_category</th>\n",
       "      <th>wealth_segment</th>\n",
       "      <th>deceased_indicator</th>\n",
       "      <th>default</th>\n",
       "      <th>owns_car</th>\n",
       "      <th>tenure</th>\n",
       "      <th>address</th>\n",
       "      <th>postcode</th>\n",
       "      <th>state</th>\n",
       "      <th>country</th>\n",
       "      <th>property_valuation</th>\n",
       "    </tr>\n",
       "  </thead>\n",
       "  <tbody>\n",
       "    <tr>\n",
       "      <th>33</th>\n",
       "      <td>34</td>\n",
       "      <td>Jephthah</td>\n",
       "      <td>Bachmann</td>\n",
       "      <td>U</td>\n",
       "      <td>59</td>\n",
       "      <td>1843-12-21</td>\n",
       "      <td>Legal Assistant</td>\n",
       "      <td>IT</td>\n",
       "      <td>Affluent Customer</td>\n",
       "      <td>NO</td>\n",
       "      <td>NaN</td>\n",
       "      <td>No</td>\n",
       "      <td>20.0</td>\n",
       "      <td>833 Luster Way</td>\n",
       "      <td>4005.0</td>\n",
       "      <td>QLD</td>\n",
       "      <td>Australia</td>\n",
       "      <td>8.0</td>\n",
       "    </tr>\n",
       "  </tbody>\n",
       "</table>\n",
       "</div>"
      ],
      "text/plain": [
       "    customer_id first_name last_name gender  \\\n",
       "33           34   Jephthah  Bachmann      U   \n",
       "\n",
       "    past_3_years_bike_related_purchases        DOB        job_title  \\\n",
       "33                                   59 1843-12-21  Legal Assistant   \n",
       "\n",
       "   job_industry_category     wealth_segment deceased_indicator default  \\\n",
       "33                    IT  Affluent Customer                 NO     NaN   \n",
       "\n",
       "   owns_car  tenure         address  postcode state    country  \\\n",
       "33       No    20.0  833 Luster Way    4005.0   QLD  Australia   \n",
       "\n",
       "    property_valuation  \n",
       "33                 8.0  "
      ]
     },
     "execution_count": 23,
     "metadata": {},
     "output_type": "execute_result"
    }
   ],
   "source": [
    "#find Years before 1915-10-30 assumming ages should not be beyond 105yrs\n",
    "df_cust_details_all[df_cust_details_all['DOB']< '1915-10-30']"
   ]
  },
  {
   "cell_type": "code",
   "execution_count": 24,
   "id": "ee566e91",
   "metadata": {},
   "outputs": [
    {
     "data": {
      "text/html": [
       "<div>\n",
       "<style scoped>\n",
       "    .dataframe tbody tr th:only-of-type {\n",
       "        vertical-align: middle;\n",
       "    }\n",
       "\n",
       "    .dataframe tbody tr th {\n",
       "        vertical-align: top;\n",
       "    }\n",
       "\n",
       "    .dataframe thead th {\n",
       "        text-align: right;\n",
       "    }\n",
       "</style>\n",
       "<table border=\"1\" class=\"dataframe\">\n",
       "  <thead>\n",
       "    <tr style=\"text-align: right;\">\n",
       "      <th></th>\n",
       "      <th>customer_id</th>\n",
       "      <th>first_name</th>\n",
       "      <th>last_name</th>\n",
       "      <th>gender</th>\n",
       "      <th>past_3_years_bike_related_purchases</th>\n",
       "      <th>DOB</th>\n",
       "      <th>job_title</th>\n",
       "      <th>job_industry_category</th>\n",
       "      <th>wealth_segment</th>\n",
       "      <th>deceased_indicator</th>\n",
       "      <th>default</th>\n",
       "      <th>owns_car</th>\n",
       "      <th>tenure</th>\n",
       "      <th>address</th>\n",
       "      <th>postcode</th>\n",
       "      <th>state</th>\n",
       "      <th>country</th>\n",
       "      <th>property_valuation</th>\n",
       "    </tr>\n",
       "  </thead>\n",
       "  <tbody>\n",
       "  </tbody>\n",
       "</table>\n",
       "</div>"
      ],
      "text/plain": [
       "Empty DataFrame\n",
       "Columns: [customer_id, first_name, last_name, gender, past_3_years_bike_related_purchases, DOB, job_title, job_industry_category, wealth_segment, deceased_indicator, default, owns_car, tenure, address, postcode, state, country, property_valuation]\n",
       "Index: []"
      ]
     },
     "execution_count": 24,
     "metadata": {},
     "output_type": "execute_result"
    }
   ],
   "source": [
    "#now lets replace the 1843 year with 1943 assuming error was due to typing\n",
    "df_cust_details_all['DOB'].replace('1843-12-21','1943-12-21',inplace=True)\n",
    "\n",
    "df_cust_details_all[df_cust_details_all['DOB']< '1900-10-30']"
   ]
  },
  {
   "cell_type": "markdown",
   "id": "d059da9d",
   "metadata": {},
   "source": [
    "### dropping insignificant columns"
   ]
  },
  {
   "cell_type": "code",
   "execution_count": 25,
   "id": "2f4bf926",
   "metadata": {
    "scrolled": false
   },
   "outputs": [
    {
     "data": {
      "text/html": [
       "<div>\n",
       "<style scoped>\n",
       "    .dataframe tbody tr th:only-of-type {\n",
       "        vertical-align: middle;\n",
       "    }\n",
       "\n",
       "    .dataframe tbody tr th {\n",
       "        vertical-align: top;\n",
       "    }\n",
       "\n",
       "    .dataframe thead th {\n",
       "        text-align: right;\n",
       "    }\n",
       "</style>\n",
       "<table border=\"1\" class=\"dataframe\">\n",
       "  <thead>\n",
       "    <tr style=\"text-align: right;\">\n",
       "      <th></th>\n",
       "      <th>customer_id</th>\n",
       "      <th>first_name</th>\n",
       "      <th>last_name</th>\n",
       "      <th>gender</th>\n",
       "      <th>past_3_years_bike_related_purchases</th>\n",
       "      <th>DOB</th>\n",
       "      <th>job_title</th>\n",
       "      <th>job_industry_category</th>\n",
       "      <th>wealth_segment</th>\n",
       "      <th>deceased_indicator</th>\n",
       "      <th>owns_car</th>\n",
       "      <th>tenure</th>\n",
       "      <th>address</th>\n",
       "      <th>postcode</th>\n",
       "      <th>state</th>\n",
       "      <th>country</th>\n",
       "      <th>property_valuation</th>\n",
       "    </tr>\n",
       "  </thead>\n",
       "  <tbody>\n",
       "    <tr>\n",
       "      <th>0</th>\n",
       "      <td>1</td>\n",
       "      <td>Laraine</td>\n",
       "      <td>Medendorp</td>\n",
       "      <td>Female</td>\n",
       "      <td>93</td>\n",
       "      <td>1953-10-12</td>\n",
       "      <td>Executive Secretary</td>\n",
       "      <td>Health</td>\n",
       "      <td>Mass Customer</td>\n",
       "      <td>NO</td>\n",
       "      <td>Yes</td>\n",
       "      <td>11.0</td>\n",
       "      <td>060 Morning Avenue</td>\n",
       "      <td>2016.0</td>\n",
       "      <td>NSW</td>\n",
       "      <td>Australia</td>\n",
       "      <td>10.0</td>\n",
       "    </tr>\n",
       "    <tr>\n",
       "      <th>1</th>\n",
       "      <td>2</td>\n",
       "      <td>Eli</td>\n",
       "      <td>Bockman</td>\n",
       "      <td>Male</td>\n",
       "      <td>81</td>\n",
       "      <td>1980-12-16</td>\n",
       "      <td>Administrative Officer</td>\n",
       "      <td>Financial Services</td>\n",
       "      <td>Mass Customer</td>\n",
       "      <td>NO</td>\n",
       "      <td>Yes</td>\n",
       "      <td>16.0</td>\n",
       "      <td>6 Meadow Vale Court</td>\n",
       "      <td>2153.0</td>\n",
       "      <td>NSW</td>\n",
       "      <td>Australia</td>\n",
       "      <td>10.0</td>\n",
       "    </tr>\n",
       "    <tr>\n",
       "      <th>2</th>\n",
       "      <td>3</td>\n",
       "      <td>Arlin</td>\n",
       "      <td>Dearle</td>\n",
       "      <td>Male</td>\n",
       "      <td>61</td>\n",
       "      <td>1954-01-20</td>\n",
       "      <td>Recruiting Manager</td>\n",
       "      <td>Property</td>\n",
       "      <td>Mass Customer</td>\n",
       "      <td>NO</td>\n",
       "      <td>Yes</td>\n",
       "      <td>15.0</td>\n",
       "      <td>NaN</td>\n",
       "      <td>NaN</td>\n",
       "      <td>NaN</td>\n",
       "      <td>NaN</td>\n",
       "      <td>NaN</td>\n",
       "    </tr>\n",
       "    <tr>\n",
       "      <th>3</th>\n",
       "      <td>4</td>\n",
       "      <td>Talbot</td>\n",
       "      <td>NaN</td>\n",
       "      <td>Male</td>\n",
       "      <td>33</td>\n",
       "      <td>1961-10-03</td>\n",
       "      <td>NaN</td>\n",
       "      <td>IT</td>\n",
       "      <td>Mass Customer</td>\n",
       "      <td>NO</td>\n",
       "      <td>No</td>\n",
       "      <td>7.0</td>\n",
       "      <td>0 Holy Cross Court</td>\n",
       "      <td>4211.0</td>\n",
       "      <td>QLD</td>\n",
       "      <td>Australia</td>\n",
       "      <td>9.0</td>\n",
       "    </tr>\n",
       "    <tr>\n",
       "      <th>4</th>\n",
       "      <td>5</td>\n",
       "      <td>Sheila-kathryn</td>\n",
       "      <td>Calton</td>\n",
       "      <td>Female</td>\n",
       "      <td>56</td>\n",
       "      <td>1977-05-13</td>\n",
       "      <td>Senior Editor</td>\n",
       "      <td>NaN</td>\n",
       "      <td>Affluent Customer</td>\n",
       "      <td>NO</td>\n",
       "      <td>Yes</td>\n",
       "      <td>8.0</td>\n",
       "      <td>17979 Del Mar Point</td>\n",
       "      <td>2448.0</td>\n",
       "      <td>NSW</td>\n",
       "      <td>Australia</td>\n",
       "      <td>4.0</td>\n",
       "    </tr>\n",
       "  </tbody>\n",
       "</table>\n",
       "</div>"
      ],
      "text/plain": [
       "   customer_id      first_name  last_name  gender  \\\n",
       "0            1         Laraine  Medendorp  Female   \n",
       "1            2             Eli    Bockman    Male   \n",
       "2            3           Arlin     Dearle    Male   \n",
       "3            4          Talbot        NaN    Male   \n",
       "4            5  Sheila-kathryn     Calton  Female   \n",
       "\n",
       "   past_3_years_bike_related_purchases        DOB               job_title  \\\n",
       "0                                   93 1953-10-12     Executive Secretary   \n",
       "1                                   81 1980-12-16  Administrative Officer   \n",
       "2                                   61 1954-01-20      Recruiting Manager   \n",
       "3                                   33 1961-10-03                     NaN   \n",
       "4                                   56 1977-05-13           Senior Editor   \n",
       "\n",
       "  job_industry_category     wealth_segment deceased_indicator owns_car  \\\n",
       "0                Health      Mass Customer                 NO      Yes   \n",
       "1    Financial Services      Mass Customer                 NO      Yes   \n",
       "2              Property      Mass Customer                 NO      Yes   \n",
       "3                    IT      Mass Customer                 NO       No   \n",
       "4                   NaN  Affluent Customer                 NO      Yes   \n",
       "\n",
       "   tenure              address  postcode state    country  property_valuation  \n",
       "0    11.0   060 Morning Avenue    2016.0   NSW  Australia                10.0  \n",
       "1    16.0  6 Meadow Vale Court    2153.0   NSW  Australia                10.0  \n",
       "2    15.0                  NaN       NaN   NaN        NaN                 NaN  \n",
       "3     7.0   0 Holy Cross Court    4211.0   QLD  Australia                 9.0  \n",
       "4     8.0  17979 Del Mar Point    2448.0   NSW  Australia                 4.0  "
      ]
     },
     "execution_count": 25,
     "metadata": {},
     "output_type": "execute_result"
    }
   ],
   "source": [
    "# lets drop the default column because it makes no sense\n",
    "df_cust_details_all.drop(columns='default',inplace=True)\n",
    "df_cust_details_all.head()"
   ]
  },
  {
   "cell_type": "code",
   "execution_count": 26,
   "id": "830bd9e0",
   "metadata": {},
   "outputs": [],
   "source": [
    "df_cust_details_all['year'] = pd.DatetimeIndex(df_cust_details_all['DOB']).year\n",
    "\n",
    "df_cust_details_all['age']=2021-df_cust_details_all['year']"
   ]
  },
  {
   "cell_type": "code",
   "execution_count": 28,
   "id": "9cfe54e7",
   "metadata": {
    "scrolled": true
   },
   "outputs": [
    {
     "data": {
      "text/html": [
       "<div>\n",
       "<style scoped>\n",
       "    .dataframe tbody tr th:only-of-type {\n",
       "        vertical-align: middle;\n",
       "    }\n",
       "\n",
       "    .dataframe tbody tr th {\n",
       "        vertical-align: top;\n",
       "    }\n",
       "\n",
       "    .dataframe thead th {\n",
       "        text-align: right;\n",
       "    }\n",
       "</style>\n",
       "<table border=\"1\" class=\"dataframe\">\n",
       "  <thead>\n",
       "    <tr style=\"text-align: right;\">\n",
       "      <th></th>\n",
       "      <th>customer_id</th>\n",
       "      <th>past_3_years_bike_related_purchases</th>\n",
       "      <th>tenure</th>\n",
       "      <th>postcode</th>\n",
       "      <th>property_valuation</th>\n",
       "      <th>year</th>\n",
       "      <th>age</th>\n",
       "    </tr>\n",
       "  </thead>\n",
       "  <tbody>\n",
       "    <tr>\n",
       "      <th>count</th>\n",
       "      <td>4000.000000</td>\n",
       "      <td>4000.000000</td>\n",
       "      <td>3913.000000</td>\n",
       "      <td>3996.000000</td>\n",
       "      <td>3996.000000</td>\n",
       "      <td>3913.000000</td>\n",
       "      <td>3913.000000</td>\n",
       "    </tr>\n",
       "    <tr>\n",
       "      <th>mean</th>\n",
       "      <td>2000.500000</td>\n",
       "      <td>48.890000</td>\n",
       "      <td>10.657041</td>\n",
       "      <td>2985.735485</td>\n",
       "      <td>7.514014</td>\n",
       "      <td>1977.056223</td>\n",
       "      <td>43.943777</td>\n",
       "    </tr>\n",
       "    <tr>\n",
       "      <th>std</th>\n",
       "      <td>1154.844867</td>\n",
       "      <td>28.715005</td>\n",
       "      <td>5.660146</td>\n",
       "      <td>844.945641</td>\n",
       "      <td>2.825426</td>\n",
       "      <td>12.627384</td>\n",
       "      <td>12.627384</td>\n",
       "    </tr>\n",
       "    <tr>\n",
       "      <th>min</th>\n",
       "      <td>1.000000</td>\n",
       "      <td>0.000000</td>\n",
       "      <td>1.000000</td>\n",
       "      <td>2000.000000</td>\n",
       "      <td>1.000000</td>\n",
       "      <td>1931.000000</td>\n",
       "      <td>19.000000</td>\n",
       "    </tr>\n",
       "    <tr>\n",
       "      <th>25%</th>\n",
       "      <td>1000.750000</td>\n",
       "      <td>24.000000</td>\n",
       "      <td>6.000000</td>\n",
       "      <td>2200.000000</td>\n",
       "      <td>6.000000</td>\n",
       "      <td>1968.000000</td>\n",
       "      <td>34.000000</td>\n",
       "    </tr>\n",
       "    <tr>\n",
       "      <th>50%</th>\n",
       "      <td>2000.500000</td>\n",
       "      <td>48.000000</td>\n",
       "      <td>11.000000</td>\n",
       "      <td>2768.000000</td>\n",
       "      <td>8.000000</td>\n",
       "      <td>1977.000000</td>\n",
       "      <td>44.000000</td>\n",
       "    </tr>\n",
       "    <tr>\n",
       "      <th>75%</th>\n",
       "      <td>3000.250000</td>\n",
       "      <td>73.000000</td>\n",
       "      <td>15.000000</td>\n",
       "      <td>3750.000000</td>\n",
       "      <td>10.000000</td>\n",
       "      <td>1987.000000</td>\n",
       "      <td>53.000000</td>\n",
       "    </tr>\n",
       "    <tr>\n",
       "      <th>max</th>\n",
       "      <td>4000.000000</td>\n",
       "      <td>99.000000</td>\n",
       "      <td>22.000000</td>\n",
       "      <td>4883.000000</td>\n",
       "      <td>12.000000</td>\n",
       "      <td>2002.000000</td>\n",
       "      <td>90.000000</td>\n",
       "    </tr>\n",
       "  </tbody>\n",
       "</table>\n",
       "</div>"
      ],
      "text/plain": [
       "       customer_id  past_3_years_bike_related_purchases       tenure  \\\n",
       "count  4000.000000                          4000.000000  3913.000000   \n",
       "mean   2000.500000                            48.890000    10.657041   \n",
       "std    1154.844867                            28.715005     5.660146   \n",
       "min       1.000000                             0.000000     1.000000   \n",
       "25%    1000.750000                            24.000000     6.000000   \n",
       "50%    2000.500000                            48.000000    11.000000   \n",
       "75%    3000.250000                            73.000000    15.000000   \n",
       "max    4000.000000                            99.000000    22.000000   \n",
       "\n",
       "          postcode  property_valuation         year          age  \n",
       "count  3996.000000         3996.000000  3913.000000  3913.000000  \n",
       "mean   2985.735485            7.514014  1977.056223    43.943777  \n",
       "std     844.945641            2.825426    12.627384    12.627384  \n",
       "min    2000.000000            1.000000  1931.000000    19.000000  \n",
       "25%    2200.000000            6.000000  1968.000000    34.000000  \n",
       "50%    2768.000000            8.000000  1977.000000    44.000000  \n",
       "75%    3750.000000           10.000000  1987.000000    53.000000  \n",
       "max    4883.000000           12.000000  2002.000000    90.000000  "
      ]
     },
     "execution_count": 28,
     "metadata": {},
     "output_type": "execute_result"
    }
   ],
   "source": [
    "df_cust_details_all.describe()"
   ]
  },
  {
   "cell_type": "markdown",
   "id": "ca7437e9",
   "metadata": {},
   "source": [
    "## Saving combined sheets to Excel"
   ]
  },
  {
   "cell_type": "code",
   "execution_count": 29,
   "id": "4905f45a",
   "metadata": {},
   "outputs": [],
   "source": [
    "#lets save the merged file \n",
    "df_cust_details_all.to_excel(\"merged_custDemographic_and_custAdress.xlsx\",index=False)\n"
   ]
  },
  {
   "cell_type": "markdown",
   "id": "8713fc1e",
   "metadata": {},
   "source": [
    "### TRANSACTIONS "
   ]
  },
  {
   "cell_type": "code",
   "execution_count": 30,
   "id": "1185157c",
   "metadata": {},
   "outputs": [
    {
     "data": {
      "text/html": [
       "<div>\n",
       "<style scoped>\n",
       "    .dataframe tbody tr th:only-of-type {\n",
       "        vertical-align: middle;\n",
       "    }\n",
       "\n",
       "    .dataframe tbody tr th {\n",
       "        vertical-align: top;\n",
       "    }\n",
       "\n",
       "    .dataframe thead th {\n",
       "        text-align: right;\n",
       "    }\n",
       "</style>\n",
       "<table border=\"1\" class=\"dataframe\">\n",
       "  <thead>\n",
       "    <tr style=\"text-align: right;\">\n",
       "      <th></th>\n",
       "      <th>transaction_id</th>\n",
       "      <th>product_id</th>\n",
       "      <th>customer_id</th>\n",
       "      <th>transaction_date</th>\n",
       "      <th>online_order</th>\n",
       "      <th>order_status</th>\n",
       "      <th>brand</th>\n",
       "      <th>product_line</th>\n",
       "      <th>product_class</th>\n",
       "      <th>product_size</th>\n",
       "      <th>list_price</th>\n",
       "      <th>standard_cost</th>\n",
       "      <th>product_first_sold_date</th>\n",
       "    </tr>\n",
       "  </thead>\n",
       "  <tbody>\n",
       "    <tr>\n",
       "      <th>0</th>\n",
       "      <td>1</td>\n",
       "      <td>2</td>\n",
       "      <td>2950</td>\n",
       "      <td>2017-02-25</td>\n",
       "      <td>0.0</td>\n",
       "      <td>Approved</td>\n",
       "      <td>Solex</td>\n",
       "      <td>Standard</td>\n",
       "      <td>medium</td>\n",
       "      <td>medium</td>\n",
       "      <td>71.49</td>\n",
       "      <td>53.62</td>\n",
       "      <td>41245.0</td>\n",
       "    </tr>\n",
       "    <tr>\n",
       "      <th>1</th>\n",
       "      <td>2</td>\n",
       "      <td>3</td>\n",
       "      <td>3120</td>\n",
       "      <td>2017-05-21</td>\n",
       "      <td>1.0</td>\n",
       "      <td>Approved</td>\n",
       "      <td>Trek Bicycles</td>\n",
       "      <td>Standard</td>\n",
       "      <td>medium</td>\n",
       "      <td>large</td>\n",
       "      <td>2091.47</td>\n",
       "      <td>388.92</td>\n",
       "      <td>41701.0</td>\n",
       "    </tr>\n",
       "    <tr>\n",
       "      <th>2</th>\n",
       "      <td>3</td>\n",
       "      <td>37</td>\n",
       "      <td>402</td>\n",
       "      <td>2017-10-16</td>\n",
       "      <td>0.0</td>\n",
       "      <td>Approved</td>\n",
       "      <td>OHM Cycles</td>\n",
       "      <td>Standard</td>\n",
       "      <td>low</td>\n",
       "      <td>medium</td>\n",
       "      <td>1793.43</td>\n",
       "      <td>248.82</td>\n",
       "      <td>36361.0</td>\n",
       "    </tr>\n",
       "    <tr>\n",
       "      <th>3</th>\n",
       "      <td>4</td>\n",
       "      <td>88</td>\n",
       "      <td>3135</td>\n",
       "      <td>2017-08-31</td>\n",
       "      <td>0.0</td>\n",
       "      <td>Approved</td>\n",
       "      <td>Norco Bicycles</td>\n",
       "      <td>Standard</td>\n",
       "      <td>medium</td>\n",
       "      <td>medium</td>\n",
       "      <td>1198.46</td>\n",
       "      <td>381.10</td>\n",
       "      <td>36145.0</td>\n",
       "    </tr>\n",
       "    <tr>\n",
       "      <th>4</th>\n",
       "      <td>5</td>\n",
       "      <td>78</td>\n",
       "      <td>787</td>\n",
       "      <td>2017-10-01</td>\n",
       "      <td>1.0</td>\n",
       "      <td>Approved</td>\n",
       "      <td>Giant Bicycles</td>\n",
       "      <td>Standard</td>\n",
       "      <td>medium</td>\n",
       "      <td>large</td>\n",
       "      <td>1765.30</td>\n",
       "      <td>709.48</td>\n",
       "      <td>42226.0</td>\n",
       "    </tr>\n",
       "    <tr>\n",
       "      <th>5</th>\n",
       "      <td>6</td>\n",
       "      <td>25</td>\n",
       "      <td>2339</td>\n",
       "      <td>2017-03-08</td>\n",
       "      <td>1.0</td>\n",
       "      <td>Approved</td>\n",
       "      <td>Giant Bicycles</td>\n",
       "      <td>Road</td>\n",
       "      <td>medium</td>\n",
       "      <td>medium</td>\n",
       "      <td>1538.99</td>\n",
       "      <td>829.65</td>\n",
       "      <td>39031.0</td>\n",
       "    </tr>\n",
       "    <tr>\n",
       "      <th>6</th>\n",
       "      <td>7</td>\n",
       "      <td>22</td>\n",
       "      <td>1542</td>\n",
       "      <td>2017-04-21</td>\n",
       "      <td>1.0</td>\n",
       "      <td>Approved</td>\n",
       "      <td>WeareA2B</td>\n",
       "      <td>Standard</td>\n",
       "      <td>medium</td>\n",
       "      <td>medium</td>\n",
       "      <td>60.34</td>\n",
       "      <td>45.26</td>\n",
       "      <td>34165.0</td>\n",
       "    </tr>\n",
       "    <tr>\n",
       "      <th>7</th>\n",
       "      <td>8</td>\n",
       "      <td>15</td>\n",
       "      <td>2459</td>\n",
       "      <td>2017-07-15</td>\n",
       "      <td>0.0</td>\n",
       "      <td>Approved</td>\n",
       "      <td>WeareA2B</td>\n",
       "      <td>Standard</td>\n",
       "      <td>medium</td>\n",
       "      <td>medium</td>\n",
       "      <td>1292.84</td>\n",
       "      <td>13.44</td>\n",
       "      <td>39915.0</td>\n",
       "    </tr>\n",
       "    <tr>\n",
       "      <th>8</th>\n",
       "      <td>9</td>\n",
       "      <td>67</td>\n",
       "      <td>1305</td>\n",
       "      <td>2017-08-10</td>\n",
       "      <td>0.0</td>\n",
       "      <td>Approved</td>\n",
       "      <td>Solex</td>\n",
       "      <td>Standard</td>\n",
       "      <td>medium</td>\n",
       "      <td>large</td>\n",
       "      <td>1071.23</td>\n",
       "      <td>380.74</td>\n",
       "      <td>33455.0</td>\n",
       "    </tr>\n",
       "    <tr>\n",
       "      <th>9</th>\n",
       "      <td>10</td>\n",
       "      <td>12</td>\n",
       "      <td>3262</td>\n",
       "      <td>2017-08-30</td>\n",
       "      <td>1.0</td>\n",
       "      <td>Approved</td>\n",
       "      <td>WeareA2B</td>\n",
       "      <td>Standard</td>\n",
       "      <td>medium</td>\n",
       "      <td>medium</td>\n",
       "      <td>1231.15</td>\n",
       "      <td>161.60</td>\n",
       "      <td>38216.0</td>\n",
       "    </tr>\n",
       "  </tbody>\n",
       "</table>\n",
       "</div>"
      ],
      "text/plain": [
       "   transaction_id  product_id  customer_id transaction_date  online_order  \\\n",
       "0               1           2         2950       2017-02-25           0.0   \n",
       "1               2           3         3120       2017-05-21           1.0   \n",
       "2               3          37          402       2017-10-16           0.0   \n",
       "3               4          88         3135       2017-08-31           0.0   \n",
       "4               5          78          787       2017-10-01           1.0   \n",
       "5               6          25         2339       2017-03-08           1.0   \n",
       "6               7          22         1542       2017-04-21           1.0   \n",
       "7               8          15         2459       2017-07-15           0.0   \n",
       "8               9          67         1305       2017-08-10           0.0   \n",
       "9              10          12         3262       2017-08-30           1.0   \n",
       "\n",
       "  order_status           brand product_line product_class product_size  \\\n",
       "0     Approved           Solex     Standard        medium       medium   \n",
       "1     Approved   Trek Bicycles     Standard        medium        large   \n",
       "2     Approved      OHM Cycles     Standard           low       medium   \n",
       "3     Approved  Norco Bicycles     Standard        medium       medium   \n",
       "4     Approved  Giant Bicycles     Standard        medium        large   \n",
       "5     Approved  Giant Bicycles         Road        medium       medium   \n",
       "6     Approved        WeareA2B     Standard        medium       medium   \n",
       "7     Approved        WeareA2B     Standard        medium       medium   \n",
       "8     Approved           Solex     Standard        medium        large   \n",
       "9     Approved        WeareA2B     Standard        medium       medium   \n",
       "\n",
       "   list_price  standard_cost  product_first_sold_date  \n",
       "0       71.49          53.62                  41245.0  \n",
       "1     2091.47         388.92                  41701.0  \n",
       "2     1793.43         248.82                  36361.0  \n",
       "3     1198.46         381.10                  36145.0  \n",
       "4     1765.30         709.48                  42226.0  \n",
       "5     1538.99         829.65                  39031.0  \n",
       "6       60.34          45.26                  34165.0  \n",
       "7     1292.84          13.44                  39915.0  \n",
       "8     1071.23         380.74                  33455.0  \n",
       "9     1231.15         161.60                  38216.0  "
      ]
     },
     "execution_count": 30,
     "metadata": {},
     "output_type": "execute_result"
    }
   ],
   "source": [
    "df_transactions.head(10)"
   ]
  },
  {
   "cell_type": "code",
   "execution_count": 31,
   "id": "d8b509f0",
   "metadata": {
    "scrolled": true
   },
   "outputs": [
    {
     "data": {
      "text/html": [
       "<div>\n",
       "<style scoped>\n",
       "    .dataframe tbody tr th:only-of-type {\n",
       "        vertical-align: middle;\n",
       "    }\n",
       "\n",
       "    .dataframe tbody tr th {\n",
       "        vertical-align: top;\n",
       "    }\n",
       "\n",
       "    .dataframe thead th {\n",
       "        text-align: right;\n",
       "    }\n",
       "</style>\n",
       "<table border=\"1\" class=\"dataframe\">\n",
       "  <thead>\n",
       "    <tr style=\"text-align: right;\">\n",
       "      <th></th>\n",
       "      <th>transaction_id</th>\n",
       "      <th>product_id</th>\n",
       "      <th>customer_id</th>\n",
       "      <th>online_order</th>\n",
       "      <th>list_price</th>\n",
       "      <th>standard_cost</th>\n",
       "      <th>product_first_sold_date</th>\n",
       "    </tr>\n",
       "  </thead>\n",
       "  <tbody>\n",
       "    <tr>\n",
       "      <th>count</th>\n",
       "      <td>20000.000000</td>\n",
       "      <td>20000.00000</td>\n",
       "      <td>20000.000000</td>\n",
       "      <td>19640.000000</td>\n",
       "      <td>20000.000000</td>\n",
       "      <td>19803.000000</td>\n",
       "      <td>19803.000000</td>\n",
       "    </tr>\n",
       "    <tr>\n",
       "      <th>mean</th>\n",
       "      <td>10000.500000</td>\n",
       "      <td>45.36465</td>\n",
       "      <td>1738.246050</td>\n",
       "      <td>0.500458</td>\n",
       "      <td>1107.829449</td>\n",
       "      <td>556.046951</td>\n",
       "      <td>38199.776549</td>\n",
       "    </tr>\n",
       "    <tr>\n",
       "      <th>std</th>\n",
       "      <td>5773.647028</td>\n",
       "      <td>30.75359</td>\n",
       "      <td>1011.951046</td>\n",
       "      <td>0.500013</td>\n",
       "      <td>582.825242</td>\n",
       "      <td>405.955660</td>\n",
       "      <td>2875.201110</td>\n",
       "    </tr>\n",
       "    <tr>\n",
       "      <th>min</th>\n",
       "      <td>1.000000</td>\n",
       "      <td>0.00000</td>\n",
       "      <td>1.000000</td>\n",
       "      <td>0.000000</td>\n",
       "      <td>12.010000</td>\n",
       "      <td>7.210000</td>\n",
       "      <td>33259.000000</td>\n",
       "    </tr>\n",
       "    <tr>\n",
       "      <th>25%</th>\n",
       "      <td>5000.750000</td>\n",
       "      <td>18.00000</td>\n",
       "      <td>857.750000</td>\n",
       "      <td>0.000000</td>\n",
       "      <td>575.270000</td>\n",
       "      <td>215.140000</td>\n",
       "      <td>35667.000000</td>\n",
       "    </tr>\n",
       "    <tr>\n",
       "      <th>50%</th>\n",
       "      <td>10000.500000</td>\n",
       "      <td>44.00000</td>\n",
       "      <td>1736.000000</td>\n",
       "      <td>1.000000</td>\n",
       "      <td>1163.890000</td>\n",
       "      <td>507.580000</td>\n",
       "      <td>38216.000000</td>\n",
       "    </tr>\n",
       "    <tr>\n",
       "      <th>75%</th>\n",
       "      <td>15000.250000</td>\n",
       "      <td>72.00000</td>\n",
       "      <td>2613.000000</td>\n",
       "      <td>1.000000</td>\n",
       "      <td>1635.300000</td>\n",
       "      <td>795.100000</td>\n",
       "      <td>40672.000000</td>\n",
       "    </tr>\n",
       "    <tr>\n",
       "      <th>max</th>\n",
       "      <td>20000.000000</td>\n",
       "      <td>100.00000</td>\n",
       "      <td>5034.000000</td>\n",
       "      <td>1.000000</td>\n",
       "      <td>2091.470000</td>\n",
       "      <td>1759.850000</td>\n",
       "      <td>42710.000000</td>\n",
       "    </tr>\n",
       "  </tbody>\n",
       "</table>\n",
       "</div>"
      ],
      "text/plain": [
       "       transaction_id   product_id   customer_id  online_order    list_price  \\\n",
       "count    20000.000000  20000.00000  20000.000000  19640.000000  20000.000000   \n",
       "mean     10000.500000     45.36465   1738.246050      0.500458   1107.829449   \n",
       "std       5773.647028     30.75359   1011.951046      0.500013    582.825242   \n",
       "min          1.000000      0.00000      1.000000      0.000000     12.010000   \n",
       "25%       5000.750000     18.00000    857.750000      0.000000    575.270000   \n",
       "50%      10000.500000     44.00000   1736.000000      1.000000   1163.890000   \n",
       "75%      15000.250000     72.00000   2613.000000      1.000000   1635.300000   \n",
       "max      20000.000000    100.00000   5034.000000      1.000000   2091.470000   \n",
       "\n",
       "       standard_cost  product_first_sold_date  \n",
       "count   19803.000000             19803.000000  \n",
       "mean      556.046951             38199.776549  \n",
       "std       405.955660              2875.201110  \n",
       "min         7.210000             33259.000000  \n",
       "25%       215.140000             35667.000000  \n",
       "50%       507.580000             38216.000000  \n",
       "75%       795.100000             40672.000000  \n",
       "max      1759.850000             42710.000000  "
      ]
     },
     "execution_count": 31,
     "metadata": {},
     "output_type": "execute_result"
    }
   ],
   "source": [
    "df_transactions.describe()"
   ]
  },
  {
   "cell_type": "code",
   "execution_count": 32,
   "id": "4f4508f2",
   "metadata": {
    "scrolled": true
   },
   "outputs": [
    {
     "data": {
      "text/plain": [
       "3494"
      ]
     },
     "execution_count": 32,
     "metadata": {},
     "output_type": "execute_result"
    }
   ],
   "source": [
    "x=df_transactions.customer_id.nunique()\n",
    "x"
   ]
  },
  {
   "cell_type": "code",
   "execution_count": 33,
   "id": "349449af",
   "metadata": {},
   "outputs": [
    {
     "name": "stdout",
     "output_type": "stream",
     "text": [
      "1\n"
     ]
    }
   ],
   "source": [
    "import numpy as np\n",
    "count=np.count_nonzero(x)\n",
    "print(count)"
   ]
  },
  {
   "cell_type": "markdown",
   "id": "bdb4c3f1",
   "metadata": {},
   "source": [
    "### lets do value counting to ensure consistency in commonly used attributes\n"
   ]
  },
  {
   "cell_type": "code",
   "execution_count": 34,
   "id": "bbbd6b10",
   "metadata": {},
   "outputs": [
    {
     "data": {
      "text/plain": [
       "Approved     19821\n",
       "Cancelled      179\n",
       "Name: order_status, dtype: int64"
      ]
     },
     "execution_count": 34,
     "metadata": {},
     "output_type": "execute_result"
    }
   ],
   "source": [
    "#lets do value counting to ensure consistency in commonly used attributes\n",
    "#check for product_line,product_class,product_size and brand too\n",
    "\n",
    "df_transactions['order_status'].value_counts()"
   ]
  },
  {
   "cell_type": "code",
   "execution_count": 35,
   "id": "aab35201",
   "metadata": {
    "scrolled": true
   },
   "outputs": [
    {
     "data": {
      "text/plain": [
       "Standard    14176\n",
       "Road         3970\n",
       "Touring      1234\n",
       "Mountain      423\n",
       "Name: product_line, dtype: int64"
      ]
     },
     "execution_count": 35,
     "metadata": {},
     "output_type": "execute_result"
    }
   ],
   "source": [
    "df_transactions['product_line'].value_counts()"
   ]
  },
  {
   "cell_type": "code",
   "execution_count": 36,
   "id": "fdca6f7a",
   "metadata": {},
   "outputs": [
    {
     "data": {
      "text/plain": [
       "1.0    9829\n",
       "0.0    9811\n",
       "Name: online_order, dtype: int64"
      ]
     },
     "execution_count": 36,
     "metadata": {},
     "output_type": "execute_result"
    }
   ],
   "source": [
    "df_transactions['online_order'].value_counts()"
   ]
  },
  {
   "cell_type": "code",
   "execution_count": 37,
   "id": "34e99348",
   "metadata": {},
   "outputs": [
    {
     "name": "stdout",
     "output_type": "stream",
     "text": [
      "2017-01-01 00:00:00 2017-12-30 00:00:00\n"
     ]
    }
   ],
   "source": [
    "#the tasks says transactions for the past three months but we have a 12 month gap here?\n",
    "print(min(df_transactions.transaction_date),max(df_transactions.transaction_date))"
   ]
  },
  {
   "cell_type": "code",
   "execution_count": 38,
   "id": "762d4c5d",
   "metadata": {},
   "outputs": [
    {
     "data": {
      "text/plain": [
       "(20000, 13)"
      ]
     },
     "execution_count": 38,
     "metadata": {},
     "output_type": "execute_result"
    }
   ],
   "source": [
    "df_transactions.shape"
   ]
  },
  {
   "cell_type": "code",
   "execution_count": 39,
   "id": "21c0bd22",
   "metadata": {},
   "outputs": [
    {
     "data": {
      "text/plain": [
       "20000"
      ]
     },
     "execution_count": 39,
     "metadata": {},
     "output_type": "execute_result"
    }
   ],
   "source": [
    "#No duplicate Transaction_Id\n",
    "x=df_transactions['transaction_id'].nunique()\n",
    "x"
   ]
  },
  {
   "cell_type": "code",
   "execution_count": 40,
   "id": "92ea9718",
   "metadata": {
    "scrolled": true
   },
   "outputs": [],
   "source": [
    "#customer_id is repeated in transaction which is possible, one \n",
    "x=df_transactions.groupby('customer_id')['customer_id'].nunique()\n",
    "x.to_excel(\"x.xlsx\",index=False)\n",
    "\n"
   ]
  },
  {
   "cell_type": "code",
   "execution_count": 41,
   "id": "b922a5b3",
   "metadata": {
    "scrolled": true
   },
   "outputs": [
    {
     "data": {
      "text/plain": [
       "transaction_id               0\n",
       "product_id                   0\n",
       "customer_id                  0\n",
       "transaction_date             0\n",
       "online_order               360\n",
       "order_status                 0\n",
       "brand                      197\n",
       "product_line               197\n",
       "product_class              197\n",
       "product_size               197\n",
       "list_price                   0\n",
       "standard_cost              197\n",
       "product_first_sold_date    197\n",
       "dtype: int64"
      ]
     },
     "execution_count": 41,
     "metadata": {},
     "output_type": "execute_result"
    }
   ],
   "source": [
    "df_transactions.isnull().sum()"
   ]
  },
  {
   "cell_type": "code",
   "execution_count": 42,
   "id": "8d23acc6",
   "metadata": {},
   "outputs": [],
   "source": [
    "df_transactions.to_excel('Trans_old.xlsx')"
   ]
  },
  {
   "cell_type": "code",
   "execution_count": 43,
   "id": "6e10b873",
   "metadata": {},
   "outputs": [],
   "source": [
    "#Convert online_order values to more understanding names\n",
    "df_transactions['online_order'].replace([1,0],['TRUE','FALSE'],inplace=True)"
   ]
  },
  {
   "cell_type": "code",
   "execution_count": 44,
   "id": "bdc897cd",
   "metadata": {
    "scrolled": false
   },
   "outputs": [
    {
     "data": {
      "text/html": [
       "<div>\n",
       "<style scoped>\n",
       "    .dataframe tbody tr th:only-of-type {\n",
       "        vertical-align: middle;\n",
       "    }\n",
       "\n",
       "    .dataframe tbody tr th {\n",
       "        vertical-align: top;\n",
       "    }\n",
       "\n",
       "    .dataframe thead th {\n",
       "        text-align: right;\n",
       "    }\n",
       "</style>\n",
       "<table border=\"1\" class=\"dataframe\">\n",
       "  <thead>\n",
       "    <tr style=\"text-align: right;\">\n",
       "      <th></th>\n",
       "      <th>transaction_id</th>\n",
       "      <th>product_id</th>\n",
       "      <th>customer_id</th>\n",
       "      <th>transaction_date</th>\n",
       "      <th>online_order</th>\n",
       "      <th>order_status</th>\n",
       "      <th>brand</th>\n",
       "      <th>product_line</th>\n",
       "      <th>product_class</th>\n",
       "      <th>product_size</th>\n",
       "      <th>list_price</th>\n",
       "      <th>standard_cost</th>\n",
       "      <th>product_first_sold_date</th>\n",
       "    </tr>\n",
       "  </thead>\n",
       "  <tbody>\n",
       "    <tr>\n",
       "      <th>14485</th>\n",
       "      <td>14486</td>\n",
       "      <td>23</td>\n",
       "      <td>1</td>\n",
       "      <td>2017-03-27</td>\n",
       "      <td>FALSE</td>\n",
       "      <td>Approved</td>\n",
       "      <td>Norco Bicycles</td>\n",
       "      <td>Mountain</td>\n",
       "      <td>low</td>\n",
       "      <td>small</td>\n",
       "      <td>688.63</td>\n",
       "      <td>612.880000</td>\n",
       "      <td>33455.0</td>\n",
       "    </tr>\n",
       "    <tr>\n",
       "      <th>18969</th>\n",
       "      <td>18970</td>\n",
       "      <td>11</td>\n",
       "      <td>1</td>\n",
       "      <td>2017-03-29</td>\n",
       "      <td>TRUE</td>\n",
       "      <td>Approved</td>\n",
       "      <td>Giant Bicycles</td>\n",
       "      <td>Standard</td>\n",
       "      <td>high</td>\n",
       "      <td>medium</td>\n",
       "      <td>1274.93</td>\n",
       "      <td>764.960000</td>\n",
       "      <td>35378.0</td>\n",
       "    </tr>\n",
       "    <tr>\n",
       "      <th>16422</th>\n",
       "      <td>16423</td>\n",
       "      <td>9</td>\n",
       "      <td>1</td>\n",
       "      <td>2017-12-09</td>\n",
       "      <td>TRUE</td>\n",
       "      <td>Approved</td>\n",
       "      <td>OHM Cycles</td>\n",
       "      <td>Road</td>\n",
       "      <td>medium</td>\n",
       "      <td>medium</td>\n",
       "      <td>742.54</td>\n",
       "      <td>667.400000</td>\n",
       "      <td>37838.0</td>\n",
       "    </tr>\n",
       "    <tr>\n",
       "      <th>5156</th>\n",
       "      <td>5157</td>\n",
       "      <td>47</td>\n",
       "      <td>1</td>\n",
       "      <td>2017-05-11</td>\n",
       "      <td>TRUE</td>\n",
       "      <td>Approved</td>\n",
       "      <td>Trek Bicycles</td>\n",
       "      <td>Road</td>\n",
       "      <td>low</td>\n",
       "      <td>small</td>\n",
       "      <td>1720.70</td>\n",
       "      <td>1531.420000</td>\n",
       "      <td>37823.0</td>\n",
       "    </tr>\n",
       "    <tr>\n",
       "      <th>13423</th>\n",
       "      <td>13424</td>\n",
       "      <td>2</td>\n",
       "      <td>1</td>\n",
       "      <td>2017-02-21</td>\n",
       "      <td>FALSE</td>\n",
       "      <td>Approved</td>\n",
       "      <td>Solex</td>\n",
       "      <td>Standard</td>\n",
       "      <td>medium</td>\n",
       "      <td>medium</td>\n",
       "      <td>71.49</td>\n",
       "      <td>53.620000</td>\n",
       "      <td>38573.0</td>\n",
       "    </tr>\n",
       "    <tr>\n",
       "      <th>...</th>\n",
       "      <td>...</td>\n",
       "      <td>...</td>\n",
       "      <td>...</td>\n",
       "      <td>...</td>\n",
       "      <td>...</td>\n",
       "      <td>...</td>\n",
       "      <td>...</td>\n",
       "      <td>...</td>\n",
       "      <td>...</td>\n",
       "      <td>...</td>\n",
       "      <td>...</td>\n",
       "      <td>...</td>\n",
       "      <td>...</td>\n",
       "    </tr>\n",
       "    <tr>\n",
       "      <th>2462</th>\n",
       "      <td>2463</td>\n",
       "      <td>2</td>\n",
       "      <td>3500</td>\n",
       "      <td>2017-04-25</td>\n",
       "      <td>FALSE</td>\n",
       "      <td>Approved</td>\n",
       "      <td>Solex</td>\n",
       "      <td>Standard</td>\n",
       "      <td>medium</td>\n",
       "      <td>medium</td>\n",
       "      <td>71.49</td>\n",
       "      <td>53.620000</td>\n",
       "      <td>41245.0</td>\n",
       "    </tr>\n",
       "    <tr>\n",
       "      <th>8415</th>\n",
       "      <td>8416</td>\n",
       "      <td>74</td>\n",
       "      <td>3500</td>\n",
       "      <td>2017-02-16</td>\n",
       "      <td>FALSE</td>\n",
       "      <td>Approved</td>\n",
       "      <td>WeareA2B</td>\n",
       "      <td>Standard</td>\n",
       "      <td>medium</td>\n",
       "      <td>medium</td>\n",
       "      <td>1228.07</td>\n",
       "      <td>400.910000</td>\n",
       "      <td>36668.0</td>\n",
       "    </tr>\n",
       "    <tr>\n",
       "      <th>8707</th>\n",
       "      <td>8708</td>\n",
       "      <td>0</td>\n",
       "      <td>5034</td>\n",
       "      <td>2017-10-07</td>\n",
       "      <td>FALSE</td>\n",
       "      <td>Approved</td>\n",
       "      <td>Solex</td>\n",
       "      <td>Road</td>\n",
       "      <td>medium</td>\n",
       "      <td>medium</td>\n",
       "      <td>416.98</td>\n",
       "      <td>312.735016</td>\n",
       "      <td>42218.0</td>\n",
       "    </tr>\n",
       "    <tr>\n",
       "      <th>16700</th>\n",
       "      <td>16701</td>\n",
       "      <td>0</td>\n",
       "      <td>5034</td>\n",
       "      <td>2017-01-27</td>\n",
       "      <td>FALSE</td>\n",
       "      <td>Approved</td>\n",
       "      <td>Norco Bicycles</td>\n",
       "      <td>Standard</td>\n",
       "      <td>medium</td>\n",
       "      <td>medium</td>\n",
       "      <td>360.40</td>\n",
       "      <td>270.299988</td>\n",
       "      <td>35667.0</td>\n",
       "    </tr>\n",
       "    <tr>\n",
       "      <th>17468</th>\n",
       "      <td>17469</td>\n",
       "      <td>0</td>\n",
       "      <td>5034</td>\n",
       "      <td>2017-01-03</td>\n",
       "      <td>FALSE</td>\n",
       "      <td>Approved</td>\n",
       "      <td>OHM Cycles</td>\n",
       "      <td>Road</td>\n",
       "      <td>medium</td>\n",
       "      <td>medium</td>\n",
       "      <td>742.54</td>\n",
       "      <td>667.400024</td>\n",
       "      <td>33879.0</td>\n",
       "    </tr>\n",
       "  </tbody>\n",
       "</table>\n",
       "<p>20000 rows × 13 columns</p>\n",
       "</div>"
      ],
      "text/plain": [
       "       transaction_id  product_id  customer_id transaction_date online_order  \\\n",
       "14485           14486          23            1       2017-03-27        FALSE   \n",
       "18969           18970          11            1       2017-03-29         TRUE   \n",
       "16422           16423           9            1       2017-12-09         TRUE   \n",
       "5156             5157          47            1       2017-05-11         TRUE   \n",
       "13423           13424           2            1       2017-02-21        FALSE   \n",
       "...               ...         ...          ...              ...          ...   \n",
       "2462             2463           2         3500       2017-04-25        FALSE   \n",
       "8415             8416          74         3500       2017-02-16        FALSE   \n",
       "8707             8708           0         5034       2017-10-07        FALSE   \n",
       "16700           16701           0         5034       2017-01-27        FALSE   \n",
       "17468           17469           0         5034       2017-01-03        FALSE   \n",
       "\n",
       "      order_status           brand product_line product_class product_size  \\\n",
       "14485     Approved  Norco Bicycles     Mountain           low        small   \n",
       "18969     Approved  Giant Bicycles     Standard          high       medium   \n",
       "16422     Approved      OHM Cycles         Road        medium       medium   \n",
       "5156      Approved   Trek Bicycles         Road           low        small   \n",
       "13423     Approved           Solex     Standard        medium       medium   \n",
       "...            ...             ...          ...           ...          ...   \n",
       "2462      Approved           Solex     Standard        medium       medium   \n",
       "8415      Approved        WeareA2B     Standard        medium       medium   \n",
       "8707      Approved           Solex         Road        medium       medium   \n",
       "16700     Approved  Norco Bicycles     Standard        medium       medium   \n",
       "17468     Approved      OHM Cycles         Road        medium       medium   \n",
       "\n",
       "       list_price  standard_cost  product_first_sold_date  \n",
       "14485      688.63     612.880000                  33455.0  \n",
       "18969     1274.93     764.960000                  35378.0  \n",
       "16422      742.54     667.400000                  37838.0  \n",
       "5156      1720.70    1531.420000                  37823.0  \n",
       "13423       71.49      53.620000                  38573.0  \n",
       "...           ...            ...                      ...  \n",
       "2462        71.49      53.620000                  41245.0  \n",
       "8415      1228.07     400.910000                  36668.0  \n",
       "8707       416.98     312.735016                  42218.0  \n",
       "16700      360.40     270.299988                  35667.0  \n",
       "17468      742.54     667.400024                  33879.0  \n",
       "\n",
       "[20000 rows x 13 columns]"
      ]
     },
     "execution_count": 44,
     "metadata": {},
     "output_type": "execute_result"
    }
   ],
   "source": [
    "df_transactions.sort_values('customer_id',ascending=True)\n"
   ]
  },
  {
   "cell_type": "code",
   "execution_count": 45,
   "id": "86cc94d4",
   "metadata": {},
   "outputs": [
    {
     "data": {
      "text/html": [
       "<div>\n",
       "<style scoped>\n",
       "    .dataframe tbody tr th:only-of-type {\n",
       "        vertical-align: middle;\n",
       "    }\n",
       "\n",
       "    .dataframe tbody tr th {\n",
       "        vertical-align: top;\n",
       "    }\n",
       "\n",
       "    .dataframe thead th {\n",
       "        text-align: right;\n",
       "    }\n",
       "</style>\n",
       "<table border=\"1\" class=\"dataframe\">\n",
       "  <thead>\n",
       "    <tr style=\"text-align: right;\">\n",
       "      <th></th>\n",
       "      <th>first_name</th>\n",
       "      <th>last_name</th>\n",
       "      <th>gender</th>\n",
       "      <th>past_3_years_bike_related_purchases</th>\n",
       "      <th>DOB</th>\n",
       "      <th>job_title</th>\n",
       "      <th>job_industry_category</th>\n",
       "      <th>wealth_segment</th>\n",
       "      <th>deceased_indicator</th>\n",
       "      <th>owns_car</th>\n",
       "      <th>...</th>\n",
       "      <th>state</th>\n",
       "      <th>country</th>\n",
       "      <th>property_valuation</th>\n",
       "      <th>Unnamed: 16</th>\n",
       "      <th>Unnamed: 17</th>\n",
       "      <th>Unnamed: 18</th>\n",
       "      <th>Unnamed: 19</th>\n",
       "      <th>Unnamed: 20</th>\n",
       "      <th>Rank</th>\n",
       "      <th>Value</th>\n",
       "    </tr>\n",
       "  </thead>\n",
       "  <tbody>\n",
       "    <tr>\n",
       "      <th>0</th>\n",
       "      <td>Chickie</td>\n",
       "      <td>Brister</td>\n",
       "      <td>Male</td>\n",
       "      <td>86</td>\n",
       "      <td>1957-07-12</td>\n",
       "      <td>General Manager</td>\n",
       "      <td>Manufacturing</td>\n",
       "      <td>Mass Customer</td>\n",
       "      <td>N</td>\n",
       "      <td>Yes</td>\n",
       "      <td>...</td>\n",
       "      <td>QLD</td>\n",
       "      <td>Australia</td>\n",
       "      <td>6</td>\n",
       "      <td>0.66</td>\n",
       "      <td>0.8250</td>\n",
       "      <td>1.03125</td>\n",
       "      <td>0.876563</td>\n",
       "      <td>1</td>\n",
       "      <td>1</td>\n",
       "      <td>1.718750</td>\n",
       "    </tr>\n",
       "    <tr>\n",
       "      <th>1</th>\n",
       "      <td>Morly</td>\n",
       "      <td>Genery</td>\n",
       "      <td>Male</td>\n",
       "      <td>69</td>\n",
       "      <td>1970-03-22</td>\n",
       "      <td>Structural Engineer</td>\n",
       "      <td>Property</td>\n",
       "      <td>Mass Customer</td>\n",
       "      <td>N</td>\n",
       "      <td>No</td>\n",
       "      <td>...</td>\n",
       "      <td>NSW</td>\n",
       "      <td>Australia</td>\n",
       "      <td>11</td>\n",
       "      <td>0.40</td>\n",
       "      <td>0.4000</td>\n",
       "      <td>0.50000</td>\n",
       "      <td>0.425000</td>\n",
       "      <td>1</td>\n",
       "      <td>1</td>\n",
       "      <td>1.718750</td>\n",
       "    </tr>\n",
       "    <tr>\n",
       "      <th>2</th>\n",
       "      <td>Ardelis</td>\n",
       "      <td>Forrester</td>\n",
       "      <td>Female</td>\n",
       "      <td>10</td>\n",
       "      <td>1974-08-28</td>\n",
       "      <td>Senior Cost Accountant</td>\n",
       "      <td>Financial Services</td>\n",
       "      <td>Affluent Customer</td>\n",
       "      <td>N</td>\n",
       "      <td>No</td>\n",
       "      <td>...</td>\n",
       "      <td>VIC</td>\n",
       "      <td>Australia</td>\n",
       "      <td>5</td>\n",
       "      <td>0.57</td>\n",
       "      <td>0.5700</td>\n",
       "      <td>0.57000</td>\n",
       "      <td>0.570000</td>\n",
       "      <td>1</td>\n",
       "      <td>1</td>\n",
       "      <td>1.718750</td>\n",
       "    </tr>\n",
       "    <tr>\n",
       "      <th>3</th>\n",
       "      <td>Lucine</td>\n",
       "      <td>Stutt</td>\n",
       "      <td>Female</td>\n",
       "      <td>64</td>\n",
       "      <td>1979-01-28</td>\n",
       "      <td>Account Representative III</td>\n",
       "      <td>Manufacturing</td>\n",
       "      <td>Affluent Customer</td>\n",
       "      <td>N</td>\n",
       "      <td>Yes</td>\n",
       "      <td>...</td>\n",
       "      <td>QLD</td>\n",
       "      <td>Australia</td>\n",
       "      <td>1</td>\n",
       "      <td>0.83</td>\n",
       "      <td>1.0375</td>\n",
       "      <td>1.03750</td>\n",
       "      <td>1.037500</td>\n",
       "      <td>4</td>\n",
       "      <td>4</td>\n",
       "      <td>1.703125</td>\n",
       "    </tr>\n",
       "    <tr>\n",
       "      <th>4</th>\n",
       "      <td>Melinda</td>\n",
       "      <td>Hadlee</td>\n",
       "      <td>Female</td>\n",
       "      <td>34</td>\n",
       "      <td>1965-09-21</td>\n",
       "      <td>Financial Analyst</td>\n",
       "      <td>Financial Services</td>\n",
       "      <td>Affluent Customer</td>\n",
       "      <td>N</td>\n",
       "      <td>No</td>\n",
       "      <td>...</td>\n",
       "      <td>NSW</td>\n",
       "      <td>Australia</td>\n",
       "      <td>9</td>\n",
       "      <td>0.74</td>\n",
       "      <td>0.7400</td>\n",
       "      <td>0.92500</td>\n",
       "      <td>0.925000</td>\n",
       "      <td>4</td>\n",
       "      <td>4</td>\n",
       "      <td>1.703125</td>\n",
       "    </tr>\n",
       "  </tbody>\n",
       "</table>\n",
       "<p>5 rows × 23 columns</p>\n",
       "</div>"
      ],
      "text/plain": [
       "  first_name  last_name  gender  past_3_years_bike_related_purchases  \\\n",
       "0    Chickie    Brister    Male                                   86   \n",
       "1      Morly     Genery    Male                                   69   \n",
       "2    Ardelis  Forrester  Female                                   10   \n",
       "3     Lucine      Stutt  Female                                   64   \n",
       "4    Melinda     Hadlee  Female                                   34   \n",
       "\n",
       "         DOB                   job_title job_industry_category  \\\n",
       "0 1957-07-12             General Manager         Manufacturing   \n",
       "1 1970-03-22         Structural Engineer              Property   \n",
       "2 1974-08-28      Senior Cost Accountant    Financial Services   \n",
       "3 1979-01-28  Account Representative III         Manufacturing   \n",
       "4 1965-09-21           Financial Analyst    Financial Services   \n",
       "\n",
       "      wealth_segment deceased_indicator owns_car  ...  state    country  \\\n",
       "0      Mass Customer                  N      Yes  ...    QLD  Australia   \n",
       "1      Mass Customer                  N       No  ...    NSW  Australia   \n",
       "2  Affluent Customer                  N       No  ...    VIC  Australia   \n",
       "3  Affluent Customer                  N      Yes  ...    QLD  Australia   \n",
       "4  Affluent Customer                  N       No  ...    NSW  Australia   \n",
       "\n",
       "   property_valuation Unnamed: 16 Unnamed: 17  Unnamed: 18  Unnamed: 19  \\\n",
       "0                   6        0.66      0.8250      1.03125     0.876563   \n",
       "1                  11        0.40      0.4000      0.50000     0.425000   \n",
       "2                   5        0.57      0.5700      0.57000     0.570000   \n",
       "3                   1        0.83      1.0375      1.03750     1.037500   \n",
       "4                   9        0.74      0.7400      0.92500     0.925000   \n",
       "\n",
       "   Unnamed: 20  Rank     Value  \n",
       "0            1     1  1.718750  \n",
       "1            1     1  1.718750  \n",
       "2            1     1  1.718750  \n",
       "3            4     4  1.703125  \n",
       "4            4     4  1.703125  \n",
       "\n",
       "[5 rows x 23 columns]"
      ]
     },
     "execution_count": 45,
     "metadata": {},
     "output_type": "execute_result"
    }
   ],
   "source": [
    "df_new_customers.head()"
   ]
  },
  {
   "cell_type": "code",
   "execution_count": 46,
   "id": "45ad9fa9",
   "metadata": {},
   "outputs": [
    {
     "data": {
      "text/plain": [
       "(1000, 23)"
      ]
     },
     "execution_count": 46,
     "metadata": {},
     "output_type": "execute_result"
    }
   ],
   "source": [
    "df_new_customers.shape"
   ]
  },
  {
   "cell_type": "code",
   "execution_count": 47,
   "id": "19c4582d",
   "metadata": {
    "scrolled": true
   },
   "outputs": [],
   "source": [
    "df_new_customers['year'] = pd.DatetimeIndex(df_new_customers['DOB']).year\n",
    "df_new_customers['age']=2021-df_new_customers['year']"
   ]
  },
  {
   "cell_type": "code",
   "execution_count": 48,
   "id": "085ce44e",
   "metadata": {},
   "outputs": [
    {
     "data": {
      "text/html": [
       "<div>\n",
       "<style scoped>\n",
       "    .dataframe tbody tr th:only-of-type {\n",
       "        vertical-align: middle;\n",
       "    }\n",
       "\n",
       "    .dataframe tbody tr th {\n",
       "        vertical-align: top;\n",
       "    }\n",
       "\n",
       "    .dataframe thead th {\n",
       "        text-align: right;\n",
       "    }\n",
       "</style>\n",
       "<table border=\"1\" class=\"dataframe\">\n",
       "  <thead>\n",
       "    <tr style=\"text-align: right;\">\n",
       "      <th></th>\n",
       "      <th>first_name</th>\n",
       "      <th>last_name</th>\n",
       "      <th>gender</th>\n",
       "      <th>past_3_years_bike_related_purchases</th>\n",
       "      <th>DOB</th>\n",
       "      <th>job_title</th>\n",
       "      <th>job_industry_category</th>\n",
       "      <th>wealth_segment</th>\n",
       "      <th>deceased_indicator</th>\n",
       "      <th>owns_car</th>\n",
       "      <th>...</th>\n",
       "      <th>property_valuation</th>\n",
       "      <th>Unnamed: 16</th>\n",
       "      <th>Unnamed: 17</th>\n",
       "      <th>Unnamed: 18</th>\n",
       "      <th>Unnamed: 19</th>\n",
       "      <th>Unnamed: 20</th>\n",
       "      <th>Rank</th>\n",
       "      <th>Value</th>\n",
       "      <th>year</th>\n",
       "      <th>age</th>\n",
       "    </tr>\n",
       "  </thead>\n",
       "  <tbody>\n",
       "    <tr>\n",
       "      <th>0</th>\n",
       "      <td>Chickie</td>\n",
       "      <td>Brister</td>\n",
       "      <td>Male</td>\n",
       "      <td>86</td>\n",
       "      <td>1957-07-12</td>\n",
       "      <td>General Manager</td>\n",
       "      <td>Manufacturing</td>\n",
       "      <td>Mass Customer</td>\n",
       "      <td>N</td>\n",
       "      <td>Yes</td>\n",
       "      <td>...</td>\n",
       "      <td>6</td>\n",
       "      <td>0.66</td>\n",
       "      <td>0.8250</td>\n",
       "      <td>1.03125</td>\n",
       "      <td>0.876563</td>\n",
       "      <td>1</td>\n",
       "      <td>1</td>\n",
       "      <td>1.718750</td>\n",
       "      <td>1957.0</td>\n",
       "      <td>64.0</td>\n",
       "    </tr>\n",
       "    <tr>\n",
       "      <th>1</th>\n",
       "      <td>Morly</td>\n",
       "      <td>Genery</td>\n",
       "      <td>Male</td>\n",
       "      <td>69</td>\n",
       "      <td>1970-03-22</td>\n",
       "      <td>Structural Engineer</td>\n",
       "      <td>Property</td>\n",
       "      <td>Mass Customer</td>\n",
       "      <td>N</td>\n",
       "      <td>No</td>\n",
       "      <td>...</td>\n",
       "      <td>11</td>\n",
       "      <td>0.40</td>\n",
       "      <td>0.4000</td>\n",
       "      <td>0.50000</td>\n",
       "      <td>0.425000</td>\n",
       "      <td>1</td>\n",
       "      <td>1</td>\n",
       "      <td>1.718750</td>\n",
       "      <td>1970.0</td>\n",
       "      <td>51.0</td>\n",
       "    </tr>\n",
       "    <tr>\n",
       "      <th>2</th>\n",
       "      <td>Ardelis</td>\n",
       "      <td>Forrester</td>\n",
       "      <td>Female</td>\n",
       "      <td>10</td>\n",
       "      <td>1974-08-28</td>\n",
       "      <td>Senior Cost Accountant</td>\n",
       "      <td>Financial Services</td>\n",
       "      <td>Affluent Customer</td>\n",
       "      <td>N</td>\n",
       "      <td>No</td>\n",
       "      <td>...</td>\n",
       "      <td>5</td>\n",
       "      <td>0.57</td>\n",
       "      <td>0.5700</td>\n",
       "      <td>0.57000</td>\n",
       "      <td>0.570000</td>\n",
       "      <td>1</td>\n",
       "      <td>1</td>\n",
       "      <td>1.718750</td>\n",
       "      <td>1974.0</td>\n",
       "      <td>47.0</td>\n",
       "    </tr>\n",
       "    <tr>\n",
       "      <th>3</th>\n",
       "      <td>Lucine</td>\n",
       "      <td>Stutt</td>\n",
       "      <td>Female</td>\n",
       "      <td>64</td>\n",
       "      <td>1979-01-28</td>\n",
       "      <td>Account Representative III</td>\n",
       "      <td>Manufacturing</td>\n",
       "      <td>Affluent Customer</td>\n",
       "      <td>N</td>\n",
       "      <td>Yes</td>\n",
       "      <td>...</td>\n",
       "      <td>1</td>\n",
       "      <td>0.83</td>\n",
       "      <td>1.0375</td>\n",
       "      <td>1.03750</td>\n",
       "      <td>1.037500</td>\n",
       "      <td>4</td>\n",
       "      <td>4</td>\n",
       "      <td>1.703125</td>\n",
       "      <td>1979.0</td>\n",
       "      <td>42.0</td>\n",
       "    </tr>\n",
       "    <tr>\n",
       "      <th>4</th>\n",
       "      <td>Melinda</td>\n",
       "      <td>Hadlee</td>\n",
       "      <td>Female</td>\n",
       "      <td>34</td>\n",
       "      <td>1965-09-21</td>\n",
       "      <td>Financial Analyst</td>\n",
       "      <td>Financial Services</td>\n",
       "      <td>Affluent Customer</td>\n",
       "      <td>N</td>\n",
       "      <td>No</td>\n",
       "      <td>...</td>\n",
       "      <td>9</td>\n",
       "      <td>0.74</td>\n",
       "      <td>0.7400</td>\n",
       "      <td>0.92500</td>\n",
       "      <td>0.925000</td>\n",
       "      <td>4</td>\n",
       "      <td>4</td>\n",
       "      <td>1.703125</td>\n",
       "      <td>1965.0</td>\n",
       "      <td>56.0</td>\n",
       "    </tr>\n",
       "  </tbody>\n",
       "</table>\n",
       "<p>5 rows × 25 columns</p>\n",
       "</div>"
      ],
      "text/plain": [
       "  first_name  last_name  gender  past_3_years_bike_related_purchases  \\\n",
       "0    Chickie    Brister    Male                                   86   \n",
       "1      Morly     Genery    Male                                   69   \n",
       "2    Ardelis  Forrester  Female                                   10   \n",
       "3     Lucine      Stutt  Female                                   64   \n",
       "4    Melinda     Hadlee  Female                                   34   \n",
       "\n",
       "         DOB                   job_title job_industry_category  \\\n",
       "0 1957-07-12             General Manager         Manufacturing   \n",
       "1 1970-03-22         Structural Engineer              Property   \n",
       "2 1974-08-28      Senior Cost Accountant    Financial Services   \n",
       "3 1979-01-28  Account Representative III         Manufacturing   \n",
       "4 1965-09-21           Financial Analyst    Financial Services   \n",
       "\n",
       "      wealth_segment deceased_indicator owns_car  ...  property_valuation  \\\n",
       "0      Mass Customer                  N      Yes  ...                   6   \n",
       "1      Mass Customer                  N       No  ...                  11   \n",
       "2  Affluent Customer                  N       No  ...                   5   \n",
       "3  Affluent Customer                  N      Yes  ...                   1   \n",
       "4  Affluent Customer                  N       No  ...                   9   \n",
       "\n",
       "  Unnamed: 16  Unnamed: 17 Unnamed: 18 Unnamed: 19  Unnamed: 20  Rank  \\\n",
       "0        0.66       0.8250     1.03125    0.876563            1     1   \n",
       "1        0.40       0.4000     0.50000    0.425000            1     1   \n",
       "2        0.57       0.5700     0.57000    0.570000            1     1   \n",
       "3        0.83       1.0375     1.03750    1.037500            4     4   \n",
       "4        0.74       0.7400     0.92500    0.925000            4     4   \n",
       "\n",
       "      Value    year   age  \n",
       "0  1.718750  1957.0  64.0  \n",
       "1  1.718750  1970.0  51.0  \n",
       "2  1.718750  1974.0  47.0  \n",
       "3  1.703125  1979.0  42.0  \n",
       "4  1.703125  1965.0  56.0  \n",
       "\n",
       "[5 rows x 25 columns]"
      ]
     },
     "execution_count": 48,
     "metadata": {},
     "output_type": "execute_result"
    }
   ],
   "source": [
    "df_new_customers.head()"
   ]
  },
  {
   "cell_type": "code",
   "execution_count": 49,
   "id": "27ead7fb",
   "metadata": {},
   "outputs": [],
   "source": [
    "df_new_customers.to_excel('new_cust.xlsx')"
   ]
  },
  {
   "cell_type": "code",
   "execution_count": 50,
   "id": "fce9e821",
   "metadata": {},
   "outputs": [
    {
     "data": {
      "text/plain": [
       "first_name                               0\n",
       "last_name                               29\n",
       "gender                                   0\n",
       "past_3_years_bike_related_purchases      0\n",
       "DOB                                     17\n",
       "job_title                              106\n",
       "job_industry_category                  165\n",
       "wealth_segment                           0\n",
       "deceased_indicator                       0\n",
       "owns_car                                 0\n",
       "tenure                                   0\n",
       "address                                  0\n",
       "postcode                                 0\n",
       "state                                    0\n",
       "country                                  0\n",
       "property_valuation                       0\n",
       "Unnamed: 16                              0\n",
       "Unnamed: 17                              0\n",
       "Unnamed: 18                              0\n",
       "Unnamed: 19                              0\n",
       "Unnamed: 20                              0\n",
       "Rank                                     0\n",
       "Value                                    0\n",
       "year                                    17\n",
       "age                                     17\n",
       "dtype: int64"
      ]
     },
     "execution_count": 50,
     "metadata": {},
     "output_type": "execute_result"
    }
   ],
   "source": [
    "df_new_customers.isnull().sum()"
   ]
  },
  {
   "cell_type": "code",
   "execution_count": 51,
   "id": "64087b6b",
   "metadata": {},
   "outputs": [
    {
     "data": {
      "text/html": [
       "<div>\n",
       "<style scoped>\n",
       "    .dataframe tbody tr th:only-of-type {\n",
       "        vertical-align: middle;\n",
       "    }\n",
       "\n",
       "    .dataframe tbody tr th {\n",
       "        vertical-align: top;\n",
       "    }\n",
       "\n",
       "    .dataframe thead th {\n",
       "        text-align: right;\n",
       "    }\n",
       "</style>\n",
       "<table border=\"1\" class=\"dataframe\">\n",
       "  <thead>\n",
       "    <tr style=\"text-align: right;\">\n",
       "      <th></th>\n",
       "      <th>past_3_years_bike_related_purchases</th>\n",
       "      <th>tenure</th>\n",
       "      <th>postcode</th>\n",
       "      <th>property_valuation</th>\n",
       "      <th>Unnamed: 16</th>\n",
       "      <th>Unnamed: 17</th>\n",
       "      <th>Unnamed: 18</th>\n",
       "      <th>Unnamed: 19</th>\n",
       "      <th>Unnamed: 20</th>\n",
       "      <th>Rank</th>\n",
       "      <th>Value</th>\n",
       "      <th>year</th>\n",
       "      <th>age</th>\n",
       "    </tr>\n",
       "  </thead>\n",
       "  <tbody>\n",
       "    <tr>\n",
       "      <th>count</th>\n",
       "      <td>1000.000000</td>\n",
       "      <td>1000.000000</td>\n",
       "      <td>1000.000000</td>\n",
       "      <td>1000.000000</td>\n",
       "      <td>1000.000000</td>\n",
       "      <td>1000.000000</td>\n",
       "      <td>1000.000000</td>\n",
       "      <td>1000.000000</td>\n",
       "      <td>1000.000000</td>\n",
       "      <td>1000.000000</td>\n",
       "      <td>1000.000000</td>\n",
       "      <td>983.000000</td>\n",
       "      <td>983.000000</td>\n",
       "    </tr>\n",
       "    <tr>\n",
       "      <th>mean</th>\n",
       "      <td>49.836000</td>\n",
       "      <td>11.388000</td>\n",
       "      <td>3019.227000</td>\n",
       "      <td>7.397000</td>\n",
       "      <td>0.749580</td>\n",
       "      <td>0.842133</td>\n",
       "      <td>0.946541</td>\n",
       "      <td>0.873603</td>\n",
       "      <td>498.819000</td>\n",
       "      <td>498.819000</td>\n",
       "      <td>0.881714</td>\n",
       "      <td>1970.793489</td>\n",
       "      <td>50.206511</td>\n",
       "    </tr>\n",
       "    <tr>\n",
       "      <th>std</th>\n",
       "      <td>27.796686</td>\n",
       "      <td>5.037145</td>\n",
       "      <td>848.895767</td>\n",
       "      <td>2.758804</td>\n",
       "      <td>0.203388</td>\n",
       "      <td>0.247761</td>\n",
       "      <td>0.294668</td>\n",
       "      <td>0.280658</td>\n",
       "      <td>288.810997</td>\n",
       "      <td>288.810997</td>\n",
       "      <td>0.293525</td>\n",
       "      <td>17.074268</td>\n",
       "      <td>17.074268</td>\n",
       "    </tr>\n",
       "    <tr>\n",
       "      <th>min</th>\n",
       "      <td>0.000000</td>\n",
       "      <td>0.000000</td>\n",
       "      <td>2000.000000</td>\n",
       "      <td>1.000000</td>\n",
       "      <td>0.400000</td>\n",
       "      <td>0.400000</td>\n",
       "      <td>0.400000</td>\n",
       "      <td>0.340000</td>\n",
       "      <td>1.000000</td>\n",
       "      <td>1.000000</td>\n",
       "      <td>0.340000</td>\n",
       "      <td>1938.000000</td>\n",
       "      <td>19.000000</td>\n",
       "    </tr>\n",
       "    <tr>\n",
       "      <th>25%</th>\n",
       "      <td>26.750000</td>\n",
       "      <td>7.000000</td>\n",
       "      <td>2209.000000</td>\n",
       "      <td>6.000000</td>\n",
       "      <td>0.580000</td>\n",
       "      <td>0.630000</td>\n",
       "      <td>0.710000</td>\n",
       "      <td>0.658750</td>\n",
       "      <td>250.000000</td>\n",
       "      <td>250.000000</td>\n",
       "      <td>0.649531</td>\n",
       "      <td>1957.000000</td>\n",
       "      <td>38.000000</td>\n",
       "    </tr>\n",
       "    <tr>\n",
       "      <th>50%</th>\n",
       "      <td>51.000000</td>\n",
       "      <td>11.000000</td>\n",
       "      <td>2800.000000</td>\n",
       "      <td>8.000000</td>\n",
       "      <td>0.750000</td>\n",
       "      <td>0.840000</td>\n",
       "      <td>0.933750</td>\n",
       "      <td>0.858500</td>\n",
       "      <td>500.000000</td>\n",
       "      <td>500.000000</td>\n",
       "      <td>0.860000</td>\n",
       "      <td>1972.000000</td>\n",
       "      <td>49.000000</td>\n",
       "    </tr>\n",
       "    <tr>\n",
       "      <th>75%</th>\n",
       "      <td>72.000000</td>\n",
       "      <td>15.000000</td>\n",
       "      <td>3845.500000</td>\n",
       "      <td>9.000000</td>\n",
       "      <td>0.930000</td>\n",
       "      <td>1.030000</td>\n",
       "      <td>1.157812</td>\n",
       "      <td>1.062500</td>\n",
       "      <td>750.250000</td>\n",
       "      <td>750.250000</td>\n",
       "      <td>1.075000</td>\n",
       "      <td>1983.000000</td>\n",
       "      <td>64.000000</td>\n",
       "    </tr>\n",
       "    <tr>\n",
       "      <th>max</th>\n",
       "      <td>99.000000</td>\n",
       "      <td>22.000000</td>\n",
       "      <td>4879.000000</td>\n",
       "      <td>12.000000</td>\n",
       "      <td>1.100000</td>\n",
       "      <td>1.375000</td>\n",
       "      <td>1.703125</td>\n",
       "      <td>1.703125</td>\n",
       "      <td>1000.000000</td>\n",
       "      <td>1000.000000</td>\n",
       "      <td>1.718750</td>\n",
       "      <td>2002.000000</td>\n",
       "      <td>83.000000</td>\n",
       "    </tr>\n",
       "  </tbody>\n",
       "</table>\n",
       "</div>"
      ],
      "text/plain": [
       "       past_3_years_bike_related_purchases       tenure     postcode  \\\n",
       "count                          1000.000000  1000.000000  1000.000000   \n",
       "mean                             49.836000    11.388000  3019.227000   \n",
       "std                              27.796686     5.037145   848.895767   \n",
       "min                               0.000000     0.000000  2000.000000   \n",
       "25%                              26.750000     7.000000  2209.000000   \n",
       "50%                              51.000000    11.000000  2800.000000   \n",
       "75%                              72.000000    15.000000  3845.500000   \n",
       "max                              99.000000    22.000000  4879.000000   \n",
       "\n",
       "       property_valuation  Unnamed: 16  Unnamed: 17  Unnamed: 18  Unnamed: 19  \\\n",
       "count         1000.000000  1000.000000  1000.000000  1000.000000  1000.000000   \n",
       "mean             7.397000     0.749580     0.842133     0.946541     0.873603   \n",
       "std              2.758804     0.203388     0.247761     0.294668     0.280658   \n",
       "min              1.000000     0.400000     0.400000     0.400000     0.340000   \n",
       "25%              6.000000     0.580000     0.630000     0.710000     0.658750   \n",
       "50%              8.000000     0.750000     0.840000     0.933750     0.858500   \n",
       "75%              9.000000     0.930000     1.030000     1.157812     1.062500   \n",
       "max             12.000000     1.100000     1.375000     1.703125     1.703125   \n",
       "\n",
       "       Unnamed: 20         Rank        Value         year         age  \n",
       "count  1000.000000  1000.000000  1000.000000   983.000000  983.000000  \n",
       "mean    498.819000   498.819000     0.881714  1970.793489   50.206511  \n",
       "std     288.810997   288.810997     0.293525    17.074268   17.074268  \n",
       "min       1.000000     1.000000     0.340000  1938.000000   19.000000  \n",
       "25%     250.000000   250.000000     0.649531  1957.000000   38.000000  \n",
       "50%     500.000000   500.000000     0.860000  1972.000000   49.000000  \n",
       "75%     750.250000   750.250000     1.075000  1983.000000   64.000000  \n",
       "max    1000.000000  1000.000000     1.718750  2002.000000   83.000000  "
      ]
     },
     "execution_count": 51,
     "metadata": {},
     "output_type": "execute_result"
    }
   ],
   "source": [
    "df_new_customers.describe()"
   ]
  },
  {
   "cell_type": "markdown",
   "id": "de9caf73",
   "metadata": {},
   "source": [
    "# DATA EXPLORATION"
   ]
  },
  {
   "cell_type": "markdown",
   "id": "4420331e",
   "metadata": {},
   "source": [
    "### Gender Distribution"
   ]
  },
  {
   "cell_type": "code",
   "execution_count": 52,
   "id": "d53296d5",
   "metadata": {},
   "outputs": [],
   "source": [
    "sns.set_style('darkgrid')"
   ]
  },
  {
   "cell_type": "code",
   "execution_count": 53,
   "id": "39e1608e",
   "metadata": {
    "scrolled": true
   },
   "outputs": [
    {
     "name": "stderr",
     "output_type": "stream",
     "text": [
      "C:\\Users\\User\\anaconda3\\lib\\site-packages\\seaborn\\_decorators.py:36: FutureWarning: Pass the following variable as a keyword arg: x. From version 0.12, the only valid positional argument will be `data`, and passing other arguments without an explicit keyword will result in an error or misinterpretation.\n",
      "  warnings.warn(\n"
     ]
    },
    {
     "data": {
      "text/plain": [
       "Text(0.5, 1.0, 'Car Ownership Distribution In Customers')"
      ]
     },
     "execution_count": 53,
     "metadata": {},
     "output_type": "execute_result"
    },
    {
     "data": {
      "image/png": "[encoded data removed]",
      "text/plain": [
       "<Figure size 432x288 with 1 Axes>"
      ]
     },
     "metadata": {},
     "output_type": "display_data"
    }
   ],
   "source": [
    "sns.countplot('owns_car',data=df_cust_details_all)\n",
    "plt.title('Car Ownership Distribution In Customers')\n",
    "#plt.legend(bbox_to_anchor=(1.04,1), loc=\"upper left\")\n"
   ]
  },
  {
   "cell_type": "code",
   "execution_count": 54,
   "id": "b86d4fe9",
   "metadata": {},
   "outputs": [
    {
     "data": {
      "text/plain": [
       "Female    2039\n",
       "Male      1873\n",
       "U           88\n",
       "Name: gender, dtype: int64"
      ]
     },
     "execution_count": 54,
     "metadata": {},
     "output_type": "execute_result"
    }
   ],
   "source": [
    "gender_counts=df_cust_details_all.gender.value_counts()\n",
    "gender_counts"
   ]
  },
  {
   "cell_type": "code",
   "execution_count": 55,
   "id": "e82ec259",
   "metadata": {
    "scrolled": true
   },
   "outputs": [
    {
     "data": {
      "image/png": "[encoded data removed]",
      "text/plain": [
       "<Figure size 864x432 with 1 Axes>"
      ]
     },
     "metadata": {},
     "output_type": "display_data"
    }
   ],
   "source": [
    "plt.figure(figsize=(12,6))\n",
    "plt.title(\"Old Gender Distribution\")\n",
    "\n",
    "plt.pie(gender_counts,labels=gender_counts.index,autopct='%1.1f%%',startangle=150,shadow=True);"
   ]
  },
  {
   "cell_type": "code",
   "execution_count": 56,
   "id": "806c6add",
   "metadata": {},
   "outputs": [],
   "source": [
    "gender_counts_N=df_new_customers.gender.value_counts()"
   ]
  },
  {
   "cell_type": "code",
   "execution_count": 57,
   "id": "c7c3b924",
   "metadata": {},
   "outputs": [
    {
     "data": {
      "image/png": "[encoded data removed]",
      "text/plain": [
       "<Figure size 864x432 with 1 Axes>"
      ]
     },
     "metadata": {},
     "output_type": "display_data"
    }
   ],
   "source": [
    "plt.figure(figsize=(12,6))\n",
    "plt.title(\"New Gender Distribution\")\n",
    "\n",
    "plt.pie(gender_counts_N,labels=gender_counts.index,autopct='%1.1f%%',startangle=150,shadow=True);"
   ]
  },
  {
   "cell_type": "code",
   "execution_count": 58,
   "id": "e86422b4",
   "metadata": {},
   "outputs": [
    {
     "data": {
      "image/png": "[encoded data removed]",
      "text/plain": [
       "<Figure size 720x432 with 1 Axes>"
      ]
     },
     "metadata": {},
     "output_type": "display_data"
    }
   ],
   "source": [
    "plt.figure(figsize=(10,6))\n",
    "plt.title(\"Age Distribution of Customers\")\n",
    "plt.xlabel(\"age\")\n",
    "plt.ylabel(\"Number Of customers\")\n",
    "plt.hist(df_cust_details_all.age, bins=np.arange(10,60,1),color='orange',edgecolor=\"white\");"
   ]
  },
  {
   "cell_type": "code",
   "execution_count": 59,
   "id": "b3151e46",
   "metadata": {
    "scrolled": false
   },
   "outputs": [
    {
     "name": "stderr",
     "output_type": "stream",
     "text": [
      "No handles with labels found to put in legend.\n"
     ]
    },
    {
     "data": {
      "text/plain": [
       "Text(0.5, 1.0, 'OLD customers Total Bike purchases Grouped by City')"
      ]
     },
     "execution_count": 59,
     "metadata": {},
     "output_type": "execute_result"
    },
    {
     "data": {
      "image/png": "[encoded data removed]",
      "text/plain": [
       "<Figure size 432x288 with 1 Axes>"
      ]
     },
     "metadata": {},
     "output_type": "display_data"
    }
   ],
   "source": [
    "plt.figure(figsize=(6,4))\n",
    "State_group=df_cust_details_all.groupby(\"state\")\n",
    "Bikes_purchased=State_group.sum()[\"past_3_years_bike_related_purchases\"]\n",
    "Bike=[Bike for Bike, df in State_group]\n",
    "plt.bar(Bike,Bikes_purchased)\n",
    "plt.legend(loc='best')\n",
    "plt.title('OLD customers Total Bike purchases Grouped by City')"
   ]
  },
  {
   "cell_type": "code",
   "execution_count": 60,
   "id": "1a94d52b",
   "metadata": {
    "scrolled": true
   },
   "outputs": [
    {
     "name": "stderr",
     "output_type": "stream",
     "text": [
      "No handles with labels found to put in legend.\n"
     ]
    },
    {
     "data": {
      "text/plain": [
       "Text(0.5, 1.0, 'New Customers Total Bike purchases Grouped by City')"
      ]
     },
     "execution_count": 60,
     "metadata": {},
     "output_type": "execute_result"
    },
    {
     "data": {
      "image/png": "[encoded data removed]",
      "text/plain": [
       "<Figure size 432x288 with 1 Axes>"
      ]
     },
     "metadata": {},
     "output_type": "display_data"
    }
   ],
   "source": [
    "plt.figure(figsize=(6,4))\n",
    "State_group=df_new_customers.groupby(\"state\")\n",
    "Bikes_purchased=State_group.sum()[\"past_3_years_bike_related_purchases\"]\n",
    "Bike=[Bike for Bike, df in State_group]\n",
    "plt.bar(Bike,Bikes_purchased, color='red')\n",
    "plt.legend(loc='best')\n",
    "plt.title('New Customers Total Bike purchases Grouped by City')"
   ]
  },
  {
   "cell_type": "code",
   "execution_count": 61,
   "id": "a825dea3",
   "metadata": {},
   "outputs": [
    {
     "name": "stderr",
     "output_type": "stream",
     "text": [
      "No handles with labels found to put in legend.\n"
     ]
    },
    {
     "data": {
      "text/plain": [
       "Text(0.5, 1.0, 'New Customers Total Bike purchases Grouped by car ownership')"
      ]
     },
     "execution_count": 61,
     "metadata": {},
     "output_type": "execute_result"
    },
    {
     "data": {
      "image/png": "[encoded data removed]",
      "text/plain": [
       "<Figure size 432x288 with 1 Axes>"
      ]
     },
     "metadata": {},
     "output_type": "display_data"
    }
   ],
   "source": [
    "plt.figure(figsize=(6,4))\n",
    "State_group=df_cust_details_all.groupby(\"owns_car\")\n",
    "Bikes_purchased=State_group.sum()[\"past_3_years_bike_related_purchases\"]\n",
    "Bike=[Bike for Bike, df in State_group]\n",
    "plt.bar(Bike,Bikes_purchased, color='red')\n",
    "plt.legend(loc='best')\n",
    "plt.title('New Customers Total Bike purchases Grouped by car ownership')"
   ]
  },
  {
   "cell_type": "markdown",
   "id": "3f8fa53b",
   "metadata": {},
   "source": [
    "## Distribution in Car Ownership state Among Customers"
   ]
  },
  {
   "cell_type": "code",
   "execution_count": 62,
   "id": "656d0813",
   "metadata": {},
   "outputs": [
    {
     "name": "stderr",
     "output_type": "stream",
     "text": [
      "C:\\Users\\User\\anaconda3\\lib\\site-packages\\seaborn\\_decorators.py:36: FutureWarning: Pass the following variable as a keyword arg: x. From version 0.12, the only valid positional argument will be `data`, and passing other arguments without an explicit keyword will result in an error or misinterpretation.\n",
      "  warnings.warn(\n"
     ]
    },
    {
     "data": {
      "text/plain": [
       "<matplotlib.legend.Legend at 0x19924291d90>"
      ]
     },
     "execution_count": 62,
     "metadata": {},
     "output_type": "execute_result"
    },
    {
     "data": {
      "image/png": "[encoded data removed]",
      "text/plain": [
       "<Figure size 432x288 with 1 Axes>"
      ]
     },
     "metadata": {},
     "output_type": "display_data"
    }
   ],
   "source": [
    "sns.countplot('owns_car',data=df_cust_details_all)\n",
    "plt.title('Car Ownership Distribution Among Customers')\n",
    "plt.legend('gender')"
   ]
  },
  {
   "cell_type": "markdown",
   "id": "ebb37826",
   "metadata": {},
   "source": [
    "## Distribution in Type of Brand "
   ]
  },
  {
   "cell_type": "code",
   "execution_count": 63,
   "id": "688f1b2e",
   "metadata": {
    "scrolled": false
   },
   "outputs": [
    {
     "data": {
      "text/plain": [
       "Text(0.5, 1.0, 'Tenure Distribution In Old Customers')"
      ]
     },
     "execution_count": 63,
     "metadata": {},
     "output_type": "execute_result"
    },
    {
     "data": {
      "image/png": "[encoded data removed]",
      "text/plain": [
       "<Figure size 864x432 with 1 Axes>"
      ]
     },
     "metadata": {},
     "output_type": "display_data"
    }
   ],
   "source": [
    "sns.set(style=\"darkgrid\")\n",
    "plt.figure(figsize=(12,6))\n",
    "sns.countplot(x=\"tenure\", data=df_cust_details_all,palette=\"Spectral\")\n",
    "plt.title(\"Tenure Distribution In Old Customers\")"
   ]
  },
  {
   "cell_type": "code",
   "execution_count": 64,
   "id": "d9668835",
   "metadata": {
    "scrolled": false
   },
   "outputs": [
    {
     "name": "stderr",
     "output_type": "stream",
     "text": [
      "C:\\Users\\User\\anaconda3\\lib\\site-packages\\seaborn\\distributions.py:2619: FutureWarning: `distplot` is a deprecated function and will be removed in a future version. Please adapt your code to use either `displot` (a figure-level function with similar flexibility) or `histplot` (an axes-level function for histograms).\n",
      "  warnings.warn(msg, FutureWarning)\n"
     ]
    },
    {
     "data": {
      "text/plain": [
       "<function matplotlib.pyplot.show(close=None, block=None)>"
      ]
     },
     "execution_count": 64,
     "metadata": {},
     "output_type": "execute_result"
    },
    {
     "data": {
      "image/png": "[encoded data removed]",
      "text/plain": [
       "<Figure size 432x432 with 1 Axes>"
      ]
     },
     "metadata": {},
     "output_type": "display_data"
    }
   ],
   "source": [
    "plt.figure(figsize=(6,6))\n",
    "sns.distplot(df_transactions['list_price'])\n",
    "plt.title('Customer Preferences with respect to list prices')\n",
    "plt.show"
   ]
  },
  {
   "cell_type": "code",
   "execution_count": 65,
   "id": "ae814c50",
   "metadata": {},
   "outputs": [
    {
     "name": "stderr",
     "output_type": "stream",
     "text": [
      "No handles with labels found to put in legend.\n"
     ]
    },
    {
     "data": {
      "text/plain": [
       "Text(0.5, 1.0, 'OLD_Customers-Property Evaluation Grouped By Wealth_Segnment')"
      ]
     },
     "execution_count": 65,
     "metadata": {},
     "output_type": "execute_result"
    },
    {
     "data": {
      "image/png": "[encoded data removed]",
      "text/plain": [
       "<Figure size 576x288 with 1 Axes>"
      ]
     },
     "metadata": {},
     "output_type": "display_data"
    }
   ],
   "source": [
    "plt.figure(figsize=(8,4))\n",
    "State_group=df_cust_details_all.groupby(\"wealth_segment\")\n",
    "Bikes_purchased=State_group.sum()['property_valuation']\n",
    "Bike=[Bike for Bike, df in State_group]\n",
    "plt.bar(Bike,Bikes_purchased, color='green')\n",
    "plt.legend(loc='best')\n",
    "plt.title('OLD_Customers-Property Evaluation Grouped By Wealth_Segnment')"
   ]
  },
  {
   "cell_type": "code",
   "execution_count": 66,
   "id": "3876314b",
   "metadata": {
    "scrolled": true
   },
   "outputs": [
    {
     "name": "stderr",
     "output_type": "stream",
     "text": [
      "C:\\Users\\User\\anaconda3\\lib\\site-packages\\seaborn\\distributions.py:2619: FutureWarning: `distplot` is a deprecated function and will be removed in a future version. Please adapt your code to use either `displot` (a figure-level function with similar flexibility) or `histplot` (an axes-level function for histograms).\n",
      "  warnings.warn(msg, FutureWarning)\n"
     ]
    },
    {
     "data": {
      "text/plain": [
       "<function matplotlib.pyplot.show(close=None, block=None)>"
      ]
     },
     "execution_count": 66,
     "metadata": {},
     "output_type": "execute_result"
    },
    {
     "data": {
      "image/png": "[encoded data removed]",
      "text/plain": [
       "<Figure size 864x432 with 1 Axes>"
      ]
     },
     "metadata": {},
     "output_type": "display_data"
    }
   ],
   "source": [
    "plt.figure(figsize=(12,6))\n",
    "sns.distplot(df_transactions['list_price'])\n",
    "plt.show"
   ]
  },
  {
   "cell_type": "code",
   "execution_count": 67,
   "id": "d7f39d94",
   "metadata": {},
   "outputs": [
    {
     "data": {
      "text/plain": [
       "Text(0.5, 1.0, 'List_price vs standard_cost in Transaction ')"
      ]
     },
     "execution_count": 67,
     "metadata": {},
     "output_type": "execute_result"
    },
    {
     "data": {
      "image/png": "[encoded data removed]",
      "text/plain": [
       "<Figure size 864x432 with 1 Axes>"
      ]
     },
     "metadata": {},
     "output_type": "display_data"
    }
   ],
   "source": [
    "plt.figure(figsize=(12,6))\n",
    "axis=sns.scatterplot(x=\"list_price\",y=\"standard_cost\",data=df_transactions,hue=\"product_class\")\n",
    "plt.title(\"List_price vs standard_cost in Transaction \")"
   ]
  },
  {
   "cell_type": "code",
   "execution_count": 68,
   "id": "a82490aa",
   "metadata": {},
   "outputs": [
    {
     "name": "stderr",
     "output_type": "stream",
     "text": [
      "C:\\Users\\User\\anaconda3\\lib\\site-packages\\seaborn\\_decorators.py:36: FutureWarning: Pass the following variable as a keyword arg: x. From version 0.12, the only valid positional argument will be `data`, and passing other arguments without an explicit keyword will result in an error or misinterpretation.\n",
      "  warnings.warn(\n"
     ]
    },
    {
     "data": {
      "text/plain": [
       "Text(0.5, 1.0, 'Product Size Distribution Among Customers')"
      ]
     },
     "execution_count": 68,
     "metadata": {},
     "output_type": "execute_result"
    },
    {
     "data": {
      "image/png": "[encoded data removed]",
      "text/plain": [
       "<Figure size 432x288 with 1 Axes>"
      ]
     },
     "metadata": {},
     "output_type": "display_data"
    }
   ],
   "source": [
    "sns.countplot('product_size',data=df_transactions)\n",
    "plt.title('Product Size Distribution Among Customers')\n"
   ]
  },
  {
   "cell_type": "code",
   "execution_count": 69,
   "id": "187176a4",
   "metadata": {},
   "outputs": [
    {
     "name": "stderr",
     "output_type": "stream",
     "text": [
      "C:\\Users\\User\\anaconda3\\lib\\site-packages\\seaborn\\_decorators.py:36: FutureWarning: Pass the following variable as a keyword arg: x. From version 0.12, the only valid positional argument will be `data`, and passing other arguments without an explicit keyword will result in an error or misinterpretation.\n",
      "  warnings.warn(\n"
     ]
    },
    {
     "data": {
      "text/plain": [
       "Text(0.5, 1.0, 'Product Class Distribution Among Customers')"
      ]
     },
     "execution_count": 69,
     "metadata": {},
     "output_type": "execute_result"
    },
    {
     "data": {
      "image/png": "[encoded data removed]",
      "text/plain": [
       "<Figure size 432x288 with 1 Axes>"
      ]
     },
     "metadata": {},
     "output_type": "display_data"
    }
   ],
   "source": [
    "sns.countplot('product_class',data=df_transactions)\n",
    "plt.title('Product Class Distribution Among Customers')\n"
   ]
  },
  {
   "cell_type": "code",
   "execution_count": 70,
   "id": "00978fa1",
   "metadata": {},
   "outputs": [
    {
     "name": "stderr",
     "output_type": "stream",
     "text": [
      "C:\\Users\\User\\anaconda3\\lib\\site-packages\\seaborn\\_decorators.py:36: FutureWarning: Pass the following variable as a keyword arg: x. From version 0.12, the only valid positional argument will be `data`, and passing other arguments without an explicit keyword will result in an error or misinterpretation.\n",
      "  warnings.warn(\n"
     ]
    },
    {
     "data": {
      "text/plain": [
       "Text(0.5, 1.0, 'Gender Ditribution State Wise')"
      ]
     },
     "execution_count": 70,
     "metadata": {},
     "output_type": "execute_result"
    },
    {
     "data": {
      "image/png": "[encoded data removed]",
      "text/plain": [
       "<Figure size 432x288 with 1 Axes>"
      ]
     },
     "metadata": {},
     "output_type": "display_data"
    }
   ],
   "source": [
    "sns.countplot('state',hue='gender',data=df_cust_details_all)\n",
    "plt.title('Gender Ditribution State Wise')"
   ]
  },
  {
   "cell_type": "code",
   "execution_count": 71,
   "id": "1c6b66ba",
   "metadata": {
    "scrolled": true
   },
   "outputs": [
    {
     "name": "stderr",
     "output_type": "stream",
     "text": [
      "C:\\Users\\User\\anaconda3\\lib\\site-packages\\seaborn\\_decorators.py:36: FutureWarning: Pass the following variable as a keyword arg: x. From version 0.12, the only valid positional argument will be `data`, and passing other arguments without an explicit keyword will result in an error or misinterpretation.\n",
      "  warnings.warn(\n"
     ]
    },
    {
     "data": {
      "text/plain": [
       "Text(0.5, 1.0, 'Product Line Distribution Among Customers')"
      ]
     },
     "execution_count": 71,
     "metadata": {},
     "output_type": "execute_result"
    },
    {
     "data": {
      "image/png": "[encoded data removed]",
      "text/plain": [
       "<Figure size 432x288 with 1 Axes>"
      ]
     },
     "metadata": {},
     "output_type": "display_data"
    }
   ],
   "source": [
    "sns.countplot('product_line',data=df_transactions)\n",
    "plt.title('Product Line Distribution Among Customers')\n"
   ]
  },
  {
   "cell_type": "code",
   "execution_count": 72,
   "id": "5cfc0962",
   "metadata": {
    "scrolled": false
   },
   "outputs": [
    {
     "data": {
      "text/plain": [
       "Text(0.5, 1.0, 'Customer Numbers With Respect to Their Job_industry')"
      ]
     },
     "execution_count": 72,
     "metadata": {},
     "output_type": "execute_result"
    },
    {
     "data": {
      "image/png": "[encoded data removed]",
      "text/plain": [
       "<Figure size 936x432 with 1 Axes>"
      ]
     },
     "metadata": {},
     "output_type": "display_data"
    }
   ],
   "source": [
    "plt.figure(figsize=(13,6))\n",
    "sns.countplot(x='job_industry_category',data=df_cust_details_all)\n",
    "plt.title('Customer Numbers With Respect to Their Job_industry')"
   ]
  },
  {
   "cell_type": "code",
   "execution_count": 73,
   "id": "b1e28c35",
   "metadata": {},
   "outputs": [
    {
     "data": {
      "text/plain": [
       "Text(0.5, 1.0, 'New Customer Numbers With Respect to Their Job_industry')"
      ]
     },
     "execution_count": 73,
     "metadata": {},
     "output_type": "execute_result"
    },
    {
     "data": {
      "image/png": "[encoded data removed]",
      "text/plain": [
       "<Figure size 936x432 with 1 Axes>"
      ]
     },
     "metadata": {},
     "output_type": "display_data"
    }
   ],
   "source": [
    "plt.figure(figsize=(13,6))\n",
    "sns.countplot(x='job_industry_category',data=df_new_customers)\n",
    "plt.title('New Customer Numbers With Respect to Their Job_industry')"
   ]
  },
  {
   "cell_type": "code",
   "execution_count": 74,
   "id": "534da267",
   "metadata": {},
   "outputs": [
    {
     "data": {
      "text/plain": [
       "Text(0.5, 1.0, 'Property Valuation In Customers')"
      ]
     },
     "execution_count": 74,
     "metadata": {},
     "output_type": "execute_result"
    },
    {
     "data": {
      "image/png": "[encoded data removed]",
      "text/plain": [
       "<Figure size 432x288 with 1 Axes>"
      ]
     },
     "metadata": {},
     "output_type": "display_data"
    }
   ],
   "source": [
    "#metrics = df_cust_details_all['property_evaluation'].to_list()\n",
    "\n",
    "sns.histplot(df_new_customers['property_valuation'], kde=True)\n",
    "plt.title('Property Valuation In Customers')\n"
   ]
  }
 ],
 "metadata": {
  "kernelspec": {
   "display_name": "Python 3 (ipykernel)",
   "language": "python",
   "name": "python3"
  },
  "language_info": {
   "codemirror_mode": {
    "name": "ipython",
    "version": 3
   },
   "file_extension": ".py",
   "mimetype": "text/x-python",
   "name": "python",
   "nbconvert_exporter": "python",
   "pygments_lexer": "ipython3",
   "version": "3.8.11"
  }
 },
 "nbformat": 4,
 "nbformat_minor": 5
}
